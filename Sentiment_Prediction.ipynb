{
  "nbformat": 4,
  "nbformat_minor": 0,
  "metadata": {
    "colab": {
      "name": "Sentiment Prediction.ipynb",
      "provenance": [],
      "authorship_tag": "ABX9TyNPeRXi7dvHqgtUdBIiqbtd",
      "include_colab_link": true
    },
    "kernelspec": {
      "name": "python3",
      "display_name": "Python 3"
    },
    "widgets": {
      "application/vnd.jupyter.widget-state+json": {
        "8a75ea4e59a24c60b1c0cc8cb15822b0": {
          "model_module": "@jupyter-widgets/controls",
          "model_name": "HBoxModel",
          "state": {
            "_view_name": "HBoxView",
            "_dom_classes": [],
            "_model_name": "HBoxModel",
            "_view_module": "@jupyter-widgets/controls",
            "_model_module_version": "1.5.0",
            "_view_count": null,
            "_view_module_version": "1.5.0",
            "box_style": "",
            "layout": "IPY_MODEL_06c8d2385340495bb401734745ad416c",
            "_model_module": "@jupyter-widgets/controls",
            "children": [
              "IPY_MODEL_289fecc3a43f4e71b64cc7743eb8e6ba",
              "IPY_MODEL_2bda96a7745240bf8cbc8485cc1f884a"
            ]
          }
        },
        "06c8d2385340495bb401734745ad416c": {
          "model_module": "@jupyter-widgets/base",
          "model_name": "LayoutModel",
          "state": {
            "_view_name": "LayoutView",
            "grid_template_rows": null,
            "right": null,
            "justify_content": null,
            "_view_module": "@jupyter-widgets/base",
            "overflow": null,
            "_model_module_version": "1.2.0",
            "_view_count": null,
            "flex_flow": null,
            "width": null,
            "min_width": null,
            "border": null,
            "align_items": null,
            "bottom": null,
            "_model_module": "@jupyter-widgets/base",
            "top": null,
            "grid_column": null,
            "overflow_y": null,
            "overflow_x": null,
            "grid_auto_flow": null,
            "grid_area": null,
            "grid_template_columns": null,
            "flex": null,
            "_model_name": "LayoutModel",
            "justify_items": null,
            "grid_row": null,
            "max_height": null,
            "align_content": null,
            "visibility": null,
            "align_self": null,
            "height": null,
            "min_height": null,
            "padding": null,
            "grid_auto_rows": null,
            "grid_gap": null,
            "max_width": null,
            "order": null,
            "_view_module_version": "1.2.0",
            "grid_template_areas": null,
            "object_position": null,
            "object_fit": null,
            "grid_auto_columns": null,
            "margin": null,
            "display": null,
            "left": null
          }
        },
        "289fecc3a43f4e71b64cc7743eb8e6ba": {
          "model_module": "@jupyter-widgets/controls",
          "model_name": "FloatProgressModel",
          "state": {
            "_view_name": "ProgressView",
            "style": "IPY_MODEL_e37812fb41704b9990627f9bceaaf7b7",
            "_dom_classes": [],
            "description": "Dl Completed...: 100%",
            "_model_name": "FloatProgressModel",
            "bar_style": "success",
            "max": 1,
            "_view_module": "@jupyter-widgets/controls",
            "_model_module_version": "1.5.0",
            "value": 1,
            "_view_count": null,
            "_view_module_version": "1.5.0",
            "orientation": "horizontal",
            "min": 0,
            "description_tooltip": null,
            "_model_module": "@jupyter-widgets/controls",
            "layout": "IPY_MODEL_6226ff7f216048c6b6127bf7f3404664"
          }
        },
        "2bda96a7745240bf8cbc8485cc1f884a": {
          "model_module": "@jupyter-widgets/controls",
          "model_name": "HTMLModel",
          "state": {
            "_view_name": "HTMLView",
            "style": "IPY_MODEL_092ebfaa8c8b4913aeca8ff2dee14c0a",
            "_dom_classes": [],
            "description": "",
            "_model_name": "HTMLModel",
            "placeholder": "​",
            "_view_module": "@jupyter-widgets/controls",
            "_model_module_version": "1.5.0",
            "value": " 1/1 [00:00&lt;00:00,  1.07 url/s]",
            "_view_count": null,
            "_view_module_version": "1.5.0",
            "description_tooltip": null,
            "_model_module": "@jupyter-widgets/controls",
            "layout": "IPY_MODEL_a1ffcd1f39914b2baf33246ed3135970"
          }
        },
        "e37812fb41704b9990627f9bceaaf7b7": {
          "model_module": "@jupyter-widgets/controls",
          "model_name": "ProgressStyleModel",
          "state": {
            "_view_name": "StyleView",
            "_model_name": "ProgressStyleModel",
            "description_width": "initial",
            "_view_module": "@jupyter-widgets/base",
            "_model_module_version": "1.5.0",
            "_view_count": null,
            "_view_module_version": "1.2.0",
            "bar_color": null,
            "_model_module": "@jupyter-widgets/controls"
          }
        },
        "6226ff7f216048c6b6127bf7f3404664": {
          "model_module": "@jupyter-widgets/base",
          "model_name": "LayoutModel",
          "state": {
            "_view_name": "LayoutView",
            "grid_template_rows": null,
            "right": null,
            "justify_content": null,
            "_view_module": "@jupyter-widgets/base",
            "overflow": null,
            "_model_module_version": "1.2.0",
            "_view_count": null,
            "flex_flow": null,
            "width": null,
            "min_width": null,
            "border": null,
            "align_items": null,
            "bottom": null,
            "_model_module": "@jupyter-widgets/base",
            "top": null,
            "grid_column": null,
            "overflow_y": null,
            "overflow_x": null,
            "grid_auto_flow": null,
            "grid_area": null,
            "grid_template_columns": null,
            "flex": null,
            "_model_name": "LayoutModel",
            "justify_items": null,
            "grid_row": null,
            "max_height": null,
            "align_content": null,
            "visibility": null,
            "align_self": null,
            "height": null,
            "min_height": null,
            "padding": null,
            "grid_auto_rows": null,
            "grid_gap": null,
            "max_width": null,
            "order": null,
            "_view_module_version": "1.2.0",
            "grid_template_areas": null,
            "object_position": null,
            "object_fit": null,
            "grid_auto_columns": null,
            "margin": null,
            "display": null,
            "left": null
          }
        },
        "092ebfaa8c8b4913aeca8ff2dee14c0a": {
          "model_module": "@jupyter-widgets/controls",
          "model_name": "DescriptionStyleModel",
          "state": {
            "_view_name": "StyleView",
            "_model_name": "DescriptionStyleModel",
            "description_width": "",
            "_view_module": "@jupyter-widgets/base",
            "_model_module_version": "1.5.0",
            "_view_count": null,
            "_view_module_version": "1.2.0",
            "_model_module": "@jupyter-widgets/controls"
          }
        },
        "a1ffcd1f39914b2baf33246ed3135970": {
          "model_module": "@jupyter-widgets/base",
          "model_name": "LayoutModel",
          "state": {
            "_view_name": "LayoutView",
            "grid_template_rows": null,
            "right": null,
            "justify_content": null,
            "_view_module": "@jupyter-widgets/base",
            "overflow": null,
            "_model_module_version": "1.2.0",
            "_view_count": null,
            "flex_flow": null,
            "width": null,
            "min_width": null,
            "border": null,
            "align_items": null,
            "bottom": null,
            "_model_module": "@jupyter-widgets/base",
            "top": null,
            "grid_column": null,
            "overflow_y": null,
            "overflow_x": null,
            "grid_auto_flow": null,
            "grid_area": null,
            "grid_template_columns": null,
            "flex": null,
            "_model_name": "LayoutModel",
            "justify_items": null,
            "grid_row": null,
            "max_height": null,
            "align_content": null,
            "visibility": null,
            "align_self": null,
            "height": null,
            "min_height": null,
            "padding": null,
            "grid_auto_rows": null,
            "grid_gap": null,
            "max_width": null,
            "order": null,
            "_view_module_version": "1.2.0",
            "grid_template_areas": null,
            "object_position": null,
            "object_fit": null,
            "grid_auto_columns": null,
            "margin": null,
            "display": null,
            "left": null
          }
        },
        "e0c950843c7042979b7a915bcca01614": {
          "model_module": "@jupyter-widgets/controls",
          "model_name": "HBoxModel",
          "state": {
            "_view_name": "HBoxView",
            "_dom_classes": [],
            "_model_name": "HBoxModel",
            "_view_module": "@jupyter-widgets/controls",
            "_model_module_version": "1.5.0",
            "_view_count": null,
            "_view_module_version": "1.5.0",
            "box_style": "",
            "layout": "IPY_MODEL_0270a51a421a43079d9426313753afdf",
            "_model_module": "@jupyter-widgets/controls",
            "children": [
              "IPY_MODEL_901c00ebbacb4b13b5bc1f50213c62cc",
              "IPY_MODEL_7e858d71463d4b60912832b3835d6bc8"
            ]
          }
        },
        "0270a51a421a43079d9426313753afdf": {
          "model_module": "@jupyter-widgets/base",
          "model_name": "LayoutModel",
          "state": {
            "_view_name": "LayoutView",
            "grid_template_rows": null,
            "right": null,
            "justify_content": null,
            "_view_module": "@jupyter-widgets/base",
            "overflow": null,
            "_model_module_version": "1.2.0",
            "_view_count": null,
            "flex_flow": null,
            "width": null,
            "min_width": null,
            "border": null,
            "align_items": null,
            "bottom": null,
            "_model_module": "@jupyter-widgets/base",
            "top": null,
            "grid_column": null,
            "overflow_y": null,
            "overflow_x": null,
            "grid_auto_flow": null,
            "grid_area": null,
            "grid_template_columns": null,
            "flex": null,
            "_model_name": "LayoutModel",
            "justify_items": null,
            "grid_row": null,
            "max_height": null,
            "align_content": null,
            "visibility": null,
            "align_self": null,
            "height": null,
            "min_height": null,
            "padding": null,
            "grid_auto_rows": null,
            "grid_gap": null,
            "max_width": null,
            "order": null,
            "_view_module_version": "1.2.0",
            "grid_template_areas": null,
            "object_position": null,
            "object_fit": null,
            "grid_auto_columns": null,
            "margin": null,
            "display": null,
            "left": null
          }
        },
        "901c00ebbacb4b13b5bc1f50213c62cc": {
          "model_module": "@jupyter-widgets/controls",
          "model_name": "FloatProgressModel",
          "state": {
            "_view_name": "ProgressView",
            "style": "IPY_MODEL_cff32fe196b0411bb3dce18caf1ace4d",
            "_dom_classes": [],
            "description": "Dl Size...: 100%",
            "_model_name": "FloatProgressModel",
            "bar_style": "success",
            "max": 1,
            "_view_module": "@jupyter-widgets/controls",
            "_model_module_version": "1.5.0",
            "value": 1,
            "_view_count": null,
            "_view_module_version": "1.5.0",
            "orientation": "horizontal",
            "min": 0,
            "description_tooltip": null,
            "_model_module": "@jupyter-widgets/controls",
            "layout": "IPY_MODEL_9d813e9ac0e9410cae432629c736b5d0"
          }
        },
        "7e858d71463d4b60912832b3835d6bc8": {
          "model_module": "@jupyter-widgets/controls",
          "model_name": "HTMLModel",
          "state": {
            "_view_name": "HTMLView",
            "style": "IPY_MODEL_49f57aaa14de45618b439888236aa37e",
            "_dom_classes": [],
            "description": "",
            "_model_name": "HTMLModel",
            "placeholder": "​",
            "_view_module": "@jupyter-widgets/controls",
            "_model_module_version": "1.5.0",
            "value": " 7/7 [00:00&lt;00:00,  7.80 MiB/s]",
            "_view_count": null,
            "_view_module_version": "1.5.0",
            "description_tooltip": null,
            "_model_module": "@jupyter-widgets/controls",
            "layout": "IPY_MODEL_111b3cb2691e4b6c8d5580ca95a2dadb"
          }
        },
        "cff32fe196b0411bb3dce18caf1ace4d": {
          "model_module": "@jupyter-widgets/controls",
          "model_name": "ProgressStyleModel",
          "state": {
            "_view_name": "StyleView",
            "_model_name": "ProgressStyleModel",
            "description_width": "initial",
            "_view_module": "@jupyter-widgets/base",
            "_model_module_version": "1.5.0",
            "_view_count": null,
            "_view_module_version": "1.2.0",
            "bar_color": null,
            "_model_module": "@jupyter-widgets/controls"
          }
        },
        "9d813e9ac0e9410cae432629c736b5d0": {
          "model_module": "@jupyter-widgets/base",
          "model_name": "LayoutModel",
          "state": {
            "_view_name": "LayoutView",
            "grid_template_rows": null,
            "right": null,
            "justify_content": null,
            "_view_module": "@jupyter-widgets/base",
            "overflow": null,
            "_model_module_version": "1.2.0",
            "_view_count": null,
            "flex_flow": null,
            "width": null,
            "min_width": null,
            "border": null,
            "align_items": null,
            "bottom": null,
            "_model_module": "@jupyter-widgets/base",
            "top": null,
            "grid_column": null,
            "overflow_y": null,
            "overflow_x": null,
            "grid_auto_flow": null,
            "grid_area": null,
            "grid_template_columns": null,
            "flex": null,
            "_model_name": "LayoutModel",
            "justify_items": null,
            "grid_row": null,
            "max_height": null,
            "align_content": null,
            "visibility": null,
            "align_self": null,
            "height": null,
            "min_height": null,
            "padding": null,
            "grid_auto_rows": null,
            "grid_gap": null,
            "max_width": null,
            "order": null,
            "_view_module_version": "1.2.0",
            "grid_template_areas": null,
            "object_position": null,
            "object_fit": null,
            "grid_auto_columns": null,
            "margin": null,
            "display": null,
            "left": null
          }
        },
        "49f57aaa14de45618b439888236aa37e": {
          "model_module": "@jupyter-widgets/controls",
          "model_name": "DescriptionStyleModel",
          "state": {
            "_view_name": "StyleView",
            "_model_name": "DescriptionStyleModel",
            "description_width": "",
            "_view_module": "@jupyter-widgets/base",
            "_model_module_version": "1.5.0",
            "_view_count": null,
            "_view_module_version": "1.2.0",
            "_model_module": "@jupyter-widgets/controls"
          }
        },
        "111b3cb2691e4b6c8d5580ca95a2dadb": {
          "model_module": "@jupyter-widgets/base",
          "model_name": "LayoutModel",
          "state": {
            "_view_name": "LayoutView",
            "grid_template_rows": null,
            "right": null,
            "justify_content": null,
            "_view_module": "@jupyter-widgets/base",
            "overflow": null,
            "_model_module_version": "1.2.0",
            "_view_count": null,
            "flex_flow": null,
            "width": null,
            "min_width": null,
            "border": null,
            "align_items": null,
            "bottom": null,
            "_model_module": "@jupyter-widgets/base",
            "top": null,
            "grid_column": null,
            "overflow_y": null,
            "overflow_x": null,
            "grid_auto_flow": null,
            "grid_area": null,
            "grid_template_columns": null,
            "flex": null,
            "_model_name": "LayoutModel",
            "justify_items": null,
            "grid_row": null,
            "max_height": null,
            "align_content": null,
            "visibility": null,
            "align_self": null,
            "height": null,
            "min_height": null,
            "padding": null,
            "grid_auto_rows": null,
            "grid_gap": null,
            "max_width": null,
            "order": null,
            "_view_module_version": "1.2.0",
            "grid_template_areas": null,
            "object_position": null,
            "object_fit": null,
            "grid_auto_columns": null,
            "margin": null,
            "display": null,
            "left": null
          }
        },
        "c7927088b8fc4760918a3b1396d7f90b": {
          "model_module": "@jupyter-widgets/controls",
          "model_name": "HBoxModel",
          "state": {
            "_view_name": "HBoxView",
            "_dom_classes": [],
            "_model_name": "HBoxModel",
            "_view_module": "@jupyter-widgets/controls",
            "_model_module_version": "1.5.0",
            "_view_count": null,
            "_view_module_version": "1.5.0",
            "box_style": "",
            "layout": "IPY_MODEL_c00dfb4876194a029dc77ef7e0182474",
            "_model_module": "@jupyter-widgets/controls",
            "children": [
              "IPY_MODEL_9eadbf82842c42848c20d2a63b3550f1",
              "IPY_MODEL_d221419120454ae4b52249c143210f8f"
            ]
          }
        },
        "c00dfb4876194a029dc77ef7e0182474": {
          "model_module": "@jupyter-widgets/base",
          "model_name": "LayoutModel",
          "state": {
            "_view_name": "LayoutView",
            "grid_template_rows": null,
            "right": null,
            "justify_content": null,
            "_view_module": "@jupyter-widgets/base",
            "overflow": null,
            "_model_module_version": "1.2.0",
            "_view_count": null,
            "flex_flow": null,
            "width": null,
            "min_width": null,
            "border": null,
            "align_items": null,
            "bottom": null,
            "_model_module": "@jupyter-widgets/base",
            "top": null,
            "grid_column": null,
            "overflow_y": null,
            "overflow_x": null,
            "grid_auto_flow": null,
            "grid_area": null,
            "grid_template_columns": null,
            "flex": null,
            "_model_name": "LayoutModel",
            "justify_items": null,
            "grid_row": null,
            "max_height": null,
            "align_content": null,
            "visibility": null,
            "align_self": null,
            "height": null,
            "min_height": null,
            "padding": null,
            "grid_auto_rows": null,
            "grid_gap": null,
            "max_width": null,
            "order": null,
            "_view_module_version": "1.2.0",
            "grid_template_areas": null,
            "object_position": null,
            "object_fit": null,
            "grid_auto_columns": null,
            "margin": null,
            "display": null,
            "left": null
          }
        },
        "9eadbf82842c42848c20d2a63b3550f1": {
          "model_module": "@jupyter-widgets/controls",
          "model_name": "FloatProgressModel",
          "state": {
            "_view_name": "ProgressView",
            "style": "IPY_MODEL_6cc188ce81f84ee180f15a144773103c",
            "_dom_classes": [],
            "description": "Extraction completed...: 100%",
            "_model_name": "FloatProgressModel",
            "bar_style": "success",
            "max": 1,
            "_view_module": "@jupyter-widgets/controls",
            "_model_module_version": "1.5.0",
            "value": 1,
            "_view_count": null,
            "_view_module_version": "1.5.0",
            "orientation": "horizontal",
            "min": 0,
            "description_tooltip": null,
            "_model_module": "@jupyter-widgets/controls",
            "layout": "IPY_MODEL_f81963f36deb4e6288271bc2bcb8245c"
          }
        },
        "d221419120454ae4b52249c143210f8f": {
          "model_module": "@jupyter-widgets/controls",
          "model_name": "HTMLModel",
          "state": {
            "_view_name": "HTMLView",
            "style": "IPY_MODEL_03f52babb0bb4fc88dbbc9f639f239bf",
            "_dom_classes": [],
            "description": "",
            "_model_name": "HTMLModel",
            "placeholder": "​",
            "_view_module": "@jupyter-widgets/controls",
            "_model_module_version": "1.5.0",
            "value": " 1/1 [00:00&lt;00:00,  1.18 file/s]",
            "_view_count": null,
            "_view_module_version": "1.5.0",
            "description_tooltip": null,
            "_model_module": "@jupyter-widgets/controls",
            "layout": "IPY_MODEL_0256a347ec0546dda4ab7807e5077b29"
          }
        },
        "6cc188ce81f84ee180f15a144773103c": {
          "model_module": "@jupyter-widgets/controls",
          "model_name": "ProgressStyleModel",
          "state": {
            "_view_name": "StyleView",
            "_model_name": "ProgressStyleModel",
            "description_width": "initial",
            "_view_module": "@jupyter-widgets/base",
            "_model_module_version": "1.5.0",
            "_view_count": null,
            "_view_module_version": "1.2.0",
            "bar_color": null,
            "_model_module": "@jupyter-widgets/controls"
          }
        },
        "f81963f36deb4e6288271bc2bcb8245c": {
          "model_module": "@jupyter-widgets/base",
          "model_name": "LayoutModel",
          "state": {
            "_view_name": "LayoutView",
            "grid_template_rows": null,
            "right": null,
            "justify_content": null,
            "_view_module": "@jupyter-widgets/base",
            "overflow": null,
            "_model_module_version": "1.2.0",
            "_view_count": null,
            "flex_flow": null,
            "width": null,
            "min_width": null,
            "border": null,
            "align_items": null,
            "bottom": null,
            "_model_module": "@jupyter-widgets/base",
            "top": null,
            "grid_column": null,
            "overflow_y": null,
            "overflow_x": null,
            "grid_auto_flow": null,
            "grid_area": null,
            "grid_template_columns": null,
            "flex": null,
            "_model_name": "LayoutModel",
            "justify_items": null,
            "grid_row": null,
            "max_height": null,
            "align_content": null,
            "visibility": null,
            "align_self": null,
            "height": null,
            "min_height": null,
            "padding": null,
            "grid_auto_rows": null,
            "grid_gap": null,
            "max_width": null,
            "order": null,
            "_view_module_version": "1.2.0",
            "grid_template_areas": null,
            "object_position": null,
            "object_fit": null,
            "grid_auto_columns": null,
            "margin": null,
            "display": null,
            "left": null
          }
        },
        "03f52babb0bb4fc88dbbc9f639f239bf": {
          "model_module": "@jupyter-widgets/controls",
          "model_name": "DescriptionStyleModel",
          "state": {
            "_view_name": "StyleView",
            "_model_name": "DescriptionStyleModel",
            "description_width": "",
            "_view_module": "@jupyter-widgets/base",
            "_model_module_version": "1.5.0",
            "_view_count": null,
            "_view_module_version": "1.2.0",
            "_model_module": "@jupyter-widgets/controls"
          }
        },
        "0256a347ec0546dda4ab7807e5077b29": {
          "model_module": "@jupyter-widgets/base",
          "model_name": "LayoutModel",
          "state": {
            "_view_name": "LayoutView",
            "grid_template_rows": null,
            "right": null,
            "justify_content": null,
            "_view_module": "@jupyter-widgets/base",
            "overflow": null,
            "_model_module_version": "1.2.0",
            "_view_count": null,
            "flex_flow": null,
            "width": null,
            "min_width": null,
            "border": null,
            "align_items": null,
            "bottom": null,
            "_model_module": "@jupyter-widgets/base",
            "top": null,
            "grid_column": null,
            "overflow_y": null,
            "overflow_x": null,
            "grid_auto_flow": null,
            "grid_area": null,
            "grid_template_columns": null,
            "flex": null,
            "_model_name": "LayoutModel",
            "justify_items": null,
            "grid_row": null,
            "max_height": null,
            "align_content": null,
            "visibility": null,
            "align_self": null,
            "height": null,
            "min_height": null,
            "padding": null,
            "grid_auto_rows": null,
            "grid_gap": null,
            "max_width": null,
            "order": null,
            "_view_module_version": "1.2.0",
            "grid_template_areas": null,
            "object_position": null,
            "object_fit": null,
            "grid_auto_columns": null,
            "margin": null,
            "display": null,
            "left": null
          }
        },
        "10ee2051a5284393a76f859ae0a54dd1": {
          "model_module": "@jupyter-widgets/controls",
          "model_name": "HBoxModel",
          "state": {
            "_view_name": "HBoxView",
            "_dom_classes": [],
            "_model_name": "HBoxModel",
            "_view_module": "@jupyter-widgets/controls",
            "_model_module_version": "1.5.0",
            "_view_count": null,
            "_view_module_version": "1.5.0",
            "box_style": "",
            "layout": "IPY_MODEL_0a7b567860aa4d13b89d10a94f13e1ca",
            "_model_module": "@jupyter-widgets/controls",
            "children": [
              "IPY_MODEL_de763b2eec4a4b52aa881eed40330f4e",
              "IPY_MODEL_e90133ae06794891af452f46f956713f"
            ]
          }
        },
        "0a7b567860aa4d13b89d10a94f13e1ca": {
          "model_module": "@jupyter-widgets/base",
          "model_name": "LayoutModel",
          "state": {
            "_view_name": "LayoutView",
            "grid_template_rows": null,
            "right": null,
            "justify_content": null,
            "_view_module": "@jupyter-widgets/base",
            "overflow": null,
            "_model_module_version": "1.2.0",
            "_view_count": null,
            "flex_flow": null,
            "width": null,
            "min_width": null,
            "border": null,
            "align_items": null,
            "bottom": null,
            "_model_module": "@jupyter-widgets/base",
            "top": null,
            "grid_column": null,
            "overflow_y": null,
            "overflow_x": null,
            "grid_auto_flow": null,
            "grid_area": null,
            "grid_template_columns": null,
            "flex": null,
            "_model_name": "LayoutModel",
            "justify_items": null,
            "grid_row": null,
            "max_height": null,
            "align_content": null,
            "visibility": null,
            "align_self": null,
            "height": null,
            "min_height": null,
            "padding": null,
            "grid_auto_rows": null,
            "grid_gap": null,
            "max_width": null,
            "order": null,
            "_view_module_version": "1.2.0",
            "grid_template_areas": null,
            "object_position": null,
            "object_fit": null,
            "grid_auto_columns": null,
            "margin": null,
            "display": null,
            "left": null
          }
        },
        "de763b2eec4a4b52aa881eed40330f4e": {
          "model_module": "@jupyter-widgets/controls",
          "model_name": "FloatProgressModel",
          "state": {
            "_view_name": "ProgressView",
            "style": "IPY_MODEL_622ef2ce939045b1b0a30da95877af62",
            "_dom_classes": [],
            "description": "",
            "_model_name": "FloatProgressModel",
            "bar_style": "info",
            "max": 1,
            "_view_module": "@jupyter-widgets/controls",
            "_model_module_version": "1.5.0",
            "value": 1,
            "_view_count": null,
            "_view_module_version": "1.5.0",
            "orientation": "horizontal",
            "min": 0,
            "description_tooltip": null,
            "_model_module": "@jupyter-widgets/controls",
            "layout": "IPY_MODEL_d2196ca870934a76a2c6b09f0f9a7b9f"
          }
        },
        "e90133ae06794891af452f46f956713f": {
          "model_module": "@jupyter-widgets/controls",
          "model_name": "HTMLModel",
          "state": {
            "_view_name": "HTMLView",
            "style": "IPY_MODEL_fe8a591f385a42f383f56233583c4809",
            "_dom_classes": [],
            "description": "",
            "_model_name": "HTMLModel",
            "placeholder": "​",
            "_view_module": "@jupyter-widgets/controls",
            "_model_module_version": "1.5.0",
            "value": " 67349/0 [00:33&lt;00:00, 2121.60 examples/s]",
            "_view_count": null,
            "_view_module_version": "1.5.0",
            "description_tooltip": null,
            "_model_module": "@jupyter-widgets/controls",
            "layout": "IPY_MODEL_38fbb59e03214609bb265ac1a95fb459"
          }
        },
        "622ef2ce939045b1b0a30da95877af62": {
          "model_module": "@jupyter-widgets/controls",
          "model_name": "ProgressStyleModel",
          "state": {
            "_view_name": "StyleView",
            "_model_name": "ProgressStyleModel",
            "description_width": "initial",
            "_view_module": "@jupyter-widgets/base",
            "_model_module_version": "1.5.0",
            "_view_count": null,
            "_view_module_version": "1.2.0",
            "bar_color": null,
            "_model_module": "@jupyter-widgets/controls"
          }
        },
        "d2196ca870934a76a2c6b09f0f9a7b9f": {
          "model_module": "@jupyter-widgets/base",
          "model_name": "LayoutModel",
          "state": {
            "_view_name": "LayoutView",
            "grid_template_rows": null,
            "right": null,
            "justify_content": null,
            "_view_module": "@jupyter-widgets/base",
            "overflow": null,
            "_model_module_version": "1.2.0",
            "_view_count": null,
            "flex_flow": null,
            "width": null,
            "min_width": null,
            "border": null,
            "align_items": null,
            "bottom": null,
            "_model_module": "@jupyter-widgets/base",
            "top": null,
            "grid_column": null,
            "overflow_y": null,
            "overflow_x": null,
            "grid_auto_flow": null,
            "grid_area": null,
            "grid_template_columns": null,
            "flex": null,
            "_model_name": "LayoutModel",
            "justify_items": null,
            "grid_row": null,
            "max_height": null,
            "align_content": null,
            "visibility": null,
            "align_self": null,
            "height": null,
            "min_height": null,
            "padding": null,
            "grid_auto_rows": null,
            "grid_gap": null,
            "max_width": null,
            "order": null,
            "_view_module_version": "1.2.0",
            "grid_template_areas": null,
            "object_position": null,
            "object_fit": null,
            "grid_auto_columns": null,
            "margin": null,
            "display": null,
            "left": null
          }
        },
        "fe8a591f385a42f383f56233583c4809": {
          "model_module": "@jupyter-widgets/controls",
          "model_name": "DescriptionStyleModel",
          "state": {
            "_view_name": "StyleView",
            "_model_name": "DescriptionStyleModel",
            "description_width": "",
            "_view_module": "@jupyter-widgets/base",
            "_model_module_version": "1.5.0",
            "_view_count": null,
            "_view_module_version": "1.2.0",
            "_model_module": "@jupyter-widgets/controls"
          }
        },
        "38fbb59e03214609bb265ac1a95fb459": {
          "model_module": "@jupyter-widgets/base",
          "model_name": "LayoutModel",
          "state": {
            "_view_name": "LayoutView",
            "grid_template_rows": null,
            "right": null,
            "justify_content": null,
            "_view_module": "@jupyter-widgets/base",
            "overflow": null,
            "_model_module_version": "1.2.0",
            "_view_count": null,
            "flex_flow": null,
            "width": null,
            "min_width": null,
            "border": null,
            "align_items": null,
            "bottom": null,
            "_model_module": "@jupyter-widgets/base",
            "top": null,
            "grid_column": null,
            "overflow_y": null,
            "overflow_x": null,
            "grid_auto_flow": null,
            "grid_area": null,
            "grid_template_columns": null,
            "flex": null,
            "_model_name": "LayoutModel",
            "justify_items": null,
            "grid_row": null,
            "max_height": null,
            "align_content": null,
            "visibility": null,
            "align_self": null,
            "height": null,
            "min_height": null,
            "padding": null,
            "grid_auto_rows": null,
            "grid_gap": null,
            "max_width": null,
            "order": null,
            "_view_module_version": "1.2.0",
            "grid_template_areas": null,
            "object_position": null,
            "object_fit": null,
            "grid_auto_columns": null,
            "margin": null,
            "display": null,
            "left": null
          }
        },
        "00fe1458d11f4080bcae61b5fd499de8": {
          "model_module": "@jupyter-widgets/controls",
          "model_name": "HBoxModel",
          "state": {
            "_view_name": "HBoxView",
            "_dom_classes": [],
            "_model_name": "HBoxModel",
            "_view_module": "@jupyter-widgets/controls",
            "_model_module_version": "1.5.0",
            "_view_count": null,
            "_view_module_version": "1.5.0",
            "box_style": "",
            "layout": "IPY_MODEL_c9007db28a17405fba08509871b376dc",
            "_model_module": "@jupyter-widgets/controls",
            "children": [
              "IPY_MODEL_7536474cf0d242b4ada2204b9065e169",
              "IPY_MODEL_b66ca3abdc5645da9bf5c1f15eb2f5f5"
            ]
          }
        },
        "c9007db28a17405fba08509871b376dc": {
          "model_module": "@jupyter-widgets/base",
          "model_name": "LayoutModel",
          "state": {
            "_view_name": "LayoutView",
            "grid_template_rows": null,
            "right": null,
            "justify_content": null,
            "_view_module": "@jupyter-widgets/base",
            "overflow": null,
            "_model_module_version": "1.2.0",
            "_view_count": null,
            "flex_flow": null,
            "width": null,
            "min_width": null,
            "border": null,
            "align_items": null,
            "bottom": null,
            "_model_module": "@jupyter-widgets/base",
            "top": null,
            "grid_column": null,
            "overflow_y": null,
            "overflow_x": null,
            "grid_auto_flow": null,
            "grid_area": null,
            "grid_template_columns": null,
            "flex": null,
            "_model_name": "LayoutModel",
            "justify_items": null,
            "grid_row": null,
            "max_height": null,
            "align_content": null,
            "visibility": null,
            "align_self": null,
            "height": null,
            "min_height": null,
            "padding": null,
            "grid_auto_rows": null,
            "grid_gap": null,
            "max_width": null,
            "order": null,
            "_view_module_version": "1.2.0",
            "grid_template_areas": null,
            "object_position": null,
            "object_fit": null,
            "grid_auto_columns": null,
            "margin": null,
            "display": null,
            "left": null
          }
        },
        "7536474cf0d242b4ada2204b9065e169": {
          "model_module": "@jupyter-widgets/controls",
          "model_name": "FloatProgressModel",
          "state": {
            "_view_name": "ProgressView",
            "style": "IPY_MODEL_c3238f5032154c18bb44ed9550295115",
            "_dom_classes": [],
            "description": " 62%",
            "_model_name": "FloatProgressModel",
            "bar_style": "danger",
            "max": 67349,
            "_view_module": "@jupyter-widgets/controls",
            "_model_module_version": "1.5.0",
            "value": 41892,
            "_view_count": null,
            "_view_module_version": "1.5.0",
            "orientation": "horizontal",
            "min": 0,
            "description_tooltip": null,
            "_model_module": "@jupyter-widgets/controls",
            "layout": "IPY_MODEL_79bb1a80dc054c149c49932c943825df"
          }
        },
        "b66ca3abdc5645da9bf5c1f15eb2f5f5": {
          "model_module": "@jupyter-widgets/controls",
          "model_name": "HTMLModel",
          "state": {
            "_view_name": "HTMLView",
            "style": "IPY_MODEL_edb9e7f24aaf49a6b0be7dd15e721451",
            "_dom_classes": [],
            "description": "",
            "_model_name": "HTMLModel",
            "placeholder": "​",
            "_view_module": "@jupyter-widgets/controls",
            "_model_module_version": "1.5.0",
            "value": " 41892/67349 [00:00&lt;44:54,  9.45 examples/s]",
            "_view_count": null,
            "_view_module_version": "1.5.0",
            "description_tooltip": null,
            "_model_module": "@jupyter-widgets/controls",
            "layout": "IPY_MODEL_e7a408aff4b64225b9e046bf3b44f3e5"
          }
        },
        "c3238f5032154c18bb44ed9550295115": {
          "model_module": "@jupyter-widgets/controls",
          "model_name": "ProgressStyleModel",
          "state": {
            "_view_name": "StyleView",
            "_model_name": "ProgressStyleModel",
            "description_width": "initial",
            "_view_module": "@jupyter-widgets/base",
            "_model_module_version": "1.5.0",
            "_view_count": null,
            "_view_module_version": "1.2.0",
            "bar_color": null,
            "_model_module": "@jupyter-widgets/controls"
          }
        },
        "79bb1a80dc054c149c49932c943825df": {
          "model_module": "@jupyter-widgets/base",
          "model_name": "LayoutModel",
          "state": {
            "_view_name": "LayoutView",
            "grid_template_rows": null,
            "right": null,
            "justify_content": null,
            "_view_module": "@jupyter-widgets/base",
            "overflow": null,
            "_model_module_version": "1.2.0",
            "_view_count": null,
            "flex_flow": null,
            "width": null,
            "min_width": null,
            "border": null,
            "align_items": null,
            "bottom": null,
            "_model_module": "@jupyter-widgets/base",
            "top": null,
            "grid_column": null,
            "overflow_y": null,
            "overflow_x": null,
            "grid_auto_flow": null,
            "grid_area": null,
            "grid_template_columns": null,
            "flex": null,
            "_model_name": "LayoutModel",
            "justify_items": null,
            "grid_row": null,
            "max_height": null,
            "align_content": null,
            "visibility": null,
            "align_self": null,
            "height": null,
            "min_height": null,
            "padding": null,
            "grid_auto_rows": null,
            "grid_gap": null,
            "max_width": null,
            "order": null,
            "_view_module_version": "1.2.0",
            "grid_template_areas": null,
            "object_position": null,
            "object_fit": null,
            "grid_auto_columns": null,
            "margin": null,
            "display": null,
            "left": null
          }
        },
        "edb9e7f24aaf49a6b0be7dd15e721451": {
          "model_module": "@jupyter-widgets/controls",
          "model_name": "DescriptionStyleModel",
          "state": {
            "_view_name": "StyleView",
            "_model_name": "DescriptionStyleModel",
            "description_width": "",
            "_view_module": "@jupyter-widgets/base",
            "_model_module_version": "1.5.0",
            "_view_count": null,
            "_view_module_version": "1.2.0",
            "_model_module": "@jupyter-widgets/controls"
          }
        },
        "e7a408aff4b64225b9e046bf3b44f3e5": {
          "model_module": "@jupyter-widgets/base",
          "model_name": "LayoutModel",
          "state": {
            "_view_name": "LayoutView",
            "grid_template_rows": null,
            "right": null,
            "justify_content": null,
            "_view_module": "@jupyter-widgets/base",
            "overflow": null,
            "_model_module_version": "1.2.0",
            "_view_count": null,
            "flex_flow": null,
            "width": null,
            "min_width": null,
            "border": null,
            "align_items": null,
            "bottom": null,
            "_model_module": "@jupyter-widgets/base",
            "top": null,
            "grid_column": null,
            "overflow_y": null,
            "overflow_x": null,
            "grid_auto_flow": null,
            "grid_area": null,
            "grid_template_columns": null,
            "flex": null,
            "_model_name": "LayoutModel",
            "justify_items": null,
            "grid_row": null,
            "max_height": null,
            "align_content": null,
            "visibility": null,
            "align_self": null,
            "height": null,
            "min_height": null,
            "padding": null,
            "grid_auto_rows": null,
            "grid_gap": null,
            "max_width": null,
            "order": null,
            "_view_module_version": "1.2.0",
            "grid_template_areas": null,
            "object_position": null,
            "object_fit": null,
            "grid_auto_columns": null,
            "margin": null,
            "display": null,
            "left": null
          }
        },
        "d068ab776a544016affdecaf837c133c": {
          "model_module": "@jupyter-widgets/controls",
          "model_name": "HBoxModel",
          "state": {
            "_view_name": "HBoxView",
            "_dom_classes": [],
            "_model_name": "HBoxModel",
            "_view_module": "@jupyter-widgets/controls",
            "_model_module_version": "1.5.0",
            "_view_count": null,
            "_view_module_version": "1.5.0",
            "box_style": "",
            "layout": "IPY_MODEL_7d4d176763884fc487c321679297d275",
            "_model_module": "@jupyter-widgets/controls",
            "children": [
              "IPY_MODEL_664f3fd6dfd743349d55c93dde324173",
              "IPY_MODEL_1ce0f00edbd94092a7e2d494e1cf36ba"
            ]
          }
        },
        "7d4d176763884fc487c321679297d275": {
          "model_module": "@jupyter-widgets/base",
          "model_name": "LayoutModel",
          "state": {
            "_view_name": "LayoutView",
            "grid_template_rows": null,
            "right": null,
            "justify_content": null,
            "_view_module": "@jupyter-widgets/base",
            "overflow": null,
            "_model_module_version": "1.2.0",
            "_view_count": null,
            "flex_flow": null,
            "width": null,
            "min_width": null,
            "border": null,
            "align_items": null,
            "bottom": null,
            "_model_module": "@jupyter-widgets/base",
            "top": null,
            "grid_column": null,
            "overflow_y": null,
            "overflow_x": null,
            "grid_auto_flow": null,
            "grid_area": null,
            "grid_template_columns": null,
            "flex": null,
            "_model_name": "LayoutModel",
            "justify_items": null,
            "grid_row": null,
            "max_height": null,
            "align_content": null,
            "visibility": null,
            "align_self": null,
            "height": null,
            "min_height": null,
            "padding": null,
            "grid_auto_rows": null,
            "grid_gap": null,
            "max_width": null,
            "order": null,
            "_view_module_version": "1.2.0",
            "grid_template_areas": null,
            "object_position": null,
            "object_fit": null,
            "grid_auto_columns": null,
            "margin": null,
            "display": null,
            "left": null
          }
        },
        "664f3fd6dfd743349d55c93dde324173": {
          "model_module": "@jupyter-widgets/controls",
          "model_name": "FloatProgressModel",
          "state": {
            "_view_name": "ProgressView",
            "style": "IPY_MODEL_a86d132ffe1649408f89c6d19f1fbb78",
            "_dom_classes": [],
            "description": "",
            "_model_name": "FloatProgressModel",
            "bar_style": "info",
            "max": 1,
            "_view_module": "@jupyter-widgets/controls",
            "_model_module_version": "1.5.0",
            "value": 1,
            "_view_count": null,
            "_view_module_version": "1.5.0",
            "orientation": "horizontal",
            "min": 0,
            "description_tooltip": null,
            "_model_module": "@jupyter-widgets/controls",
            "layout": "IPY_MODEL_0477e09406eb4750860cf45d579c07ee"
          }
        },
        "1ce0f00edbd94092a7e2d494e1cf36ba": {
          "model_module": "@jupyter-widgets/controls",
          "model_name": "HTMLModel",
          "state": {
            "_view_name": "HTMLView",
            "style": "IPY_MODEL_2444ac1054864b64b696e0f8c3f3c8c6",
            "_dom_classes": [],
            "description": "",
            "_model_name": "HTMLModel",
            "placeholder": "​",
            "_view_module": "@jupyter-widgets/controls",
            "_model_module_version": "1.5.0",
            "value": " 872/0 [00:00&lt;00:00, 1750.68 examples/s]",
            "_view_count": null,
            "_view_module_version": "1.5.0",
            "description_tooltip": null,
            "_model_module": "@jupyter-widgets/controls",
            "layout": "IPY_MODEL_cef4da551d3b4b6db32bf48d8a81907a"
          }
        },
        "a86d132ffe1649408f89c6d19f1fbb78": {
          "model_module": "@jupyter-widgets/controls",
          "model_name": "ProgressStyleModel",
          "state": {
            "_view_name": "StyleView",
            "_model_name": "ProgressStyleModel",
            "description_width": "initial",
            "_view_module": "@jupyter-widgets/base",
            "_model_module_version": "1.5.0",
            "_view_count": null,
            "_view_module_version": "1.2.0",
            "bar_color": null,
            "_model_module": "@jupyter-widgets/controls"
          }
        },
        "0477e09406eb4750860cf45d579c07ee": {
          "model_module": "@jupyter-widgets/base",
          "model_name": "LayoutModel",
          "state": {
            "_view_name": "LayoutView",
            "grid_template_rows": null,
            "right": null,
            "justify_content": null,
            "_view_module": "@jupyter-widgets/base",
            "overflow": null,
            "_model_module_version": "1.2.0",
            "_view_count": null,
            "flex_flow": null,
            "width": null,
            "min_width": null,
            "border": null,
            "align_items": null,
            "bottom": null,
            "_model_module": "@jupyter-widgets/base",
            "top": null,
            "grid_column": null,
            "overflow_y": null,
            "overflow_x": null,
            "grid_auto_flow": null,
            "grid_area": null,
            "grid_template_columns": null,
            "flex": null,
            "_model_name": "LayoutModel",
            "justify_items": null,
            "grid_row": null,
            "max_height": null,
            "align_content": null,
            "visibility": null,
            "align_self": null,
            "height": null,
            "min_height": null,
            "padding": null,
            "grid_auto_rows": null,
            "grid_gap": null,
            "max_width": null,
            "order": null,
            "_view_module_version": "1.2.0",
            "grid_template_areas": null,
            "object_position": null,
            "object_fit": null,
            "grid_auto_columns": null,
            "margin": null,
            "display": null,
            "left": null
          }
        },
        "2444ac1054864b64b696e0f8c3f3c8c6": {
          "model_module": "@jupyter-widgets/controls",
          "model_name": "DescriptionStyleModel",
          "state": {
            "_view_name": "StyleView",
            "_model_name": "DescriptionStyleModel",
            "description_width": "",
            "_view_module": "@jupyter-widgets/base",
            "_model_module_version": "1.5.0",
            "_view_count": null,
            "_view_module_version": "1.2.0",
            "_model_module": "@jupyter-widgets/controls"
          }
        },
        "cef4da551d3b4b6db32bf48d8a81907a": {
          "model_module": "@jupyter-widgets/base",
          "model_name": "LayoutModel",
          "state": {
            "_view_name": "LayoutView",
            "grid_template_rows": null,
            "right": null,
            "justify_content": null,
            "_view_module": "@jupyter-widgets/base",
            "overflow": null,
            "_model_module_version": "1.2.0",
            "_view_count": null,
            "flex_flow": null,
            "width": null,
            "min_width": null,
            "border": null,
            "align_items": null,
            "bottom": null,
            "_model_module": "@jupyter-widgets/base",
            "top": null,
            "grid_column": null,
            "overflow_y": null,
            "overflow_x": null,
            "grid_auto_flow": null,
            "grid_area": null,
            "grid_template_columns": null,
            "flex": null,
            "_model_name": "LayoutModel",
            "justify_items": null,
            "grid_row": null,
            "max_height": null,
            "align_content": null,
            "visibility": null,
            "align_self": null,
            "height": null,
            "min_height": null,
            "padding": null,
            "grid_auto_rows": null,
            "grid_gap": null,
            "max_width": null,
            "order": null,
            "_view_module_version": "1.2.0",
            "grid_template_areas": null,
            "object_position": null,
            "object_fit": null,
            "grid_auto_columns": null,
            "margin": null,
            "display": null,
            "left": null
          }
        },
        "2155a672322b4ac2a4007191f4dcc50e": {
          "model_module": "@jupyter-widgets/controls",
          "model_name": "HBoxModel",
          "state": {
            "_view_name": "HBoxView",
            "_dom_classes": [],
            "_model_name": "HBoxModel",
            "_view_module": "@jupyter-widgets/controls",
            "_model_module_version": "1.5.0",
            "_view_count": null,
            "_view_module_version": "1.5.0",
            "box_style": "",
            "layout": "IPY_MODEL_ed0075cf8cf748ab9d12e4eb62afc6ce",
            "_model_module": "@jupyter-widgets/controls",
            "children": [
              "IPY_MODEL_2034315e7c6d4ecebab278824ca92922",
              "IPY_MODEL_f2ce6fa48c634cef8d2049e89c6f7e52"
            ]
          }
        },
        "ed0075cf8cf748ab9d12e4eb62afc6ce": {
          "model_module": "@jupyter-widgets/base",
          "model_name": "LayoutModel",
          "state": {
            "_view_name": "LayoutView",
            "grid_template_rows": null,
            "right": null,
            "justify_content": null,
            "_view_module": "@jupyter-widgets/base",
            "overflow": null,
            "_model_module_version": "1.2.0",
            "_view_count": null,
            "flex_flow": null,
            "width": null,
            "min_width": null,
            "border": null,
            "align_items": null,
            "bottom": null,
            "_model_module": "@jupyter-widgets/base",
            "top": null,
            "grid_column": null,
            "overflow_y": null,
            "overflow_x": null,
            "grid_auto_flow": null,
            "grid_area": null,
            "grid_template_columns": null,
            "flex": null,
            "_model_name": "LayoutModel",
            "justify_items": null,
            "grid_row": null,
            "max_height": null,
            "align_content": null,
            "visibility": null,
            "align_self": null,
            "height": null,
            "min_height": null,
            "padding": null,
            "grid_auto_rows": null,
            "grid_gap": null,
            "max_width": null,
            "order": null,
            "_view_module_version": "1.2.0",
            "grid_template_areas": null,
            "object_position": null,
            "object_fit": null,
            "grid_auto_columns": null,
            "margin": null,
            "display": null,
            "left": null
          }
        },
        "2034315e7c6d4ecebab278824ca92922": {
          "model_module": "@jupyter-widgets/controls",
          "model_name": "FloatProgressModel",
          "state": {
            "_view_name": "ProgressView",
            "style": "IPY_MODEL_d8c7bd7d535a414e9515fa5525ba4665",
            "_dom_classes": [],
            "description": "  0%",
            "_model_name": "FloatProgressModel",
            "bar_style": "danger",
            "max": 872,
            "_view_module": "@jupyter-widgets/controls",
            "_model_module_version": "1.5.0",
            "value": 0,
            "_view_count": null,
            "_view_module_version": "1.5.0",
            "orientation": "horizontal",
            "min": 0,
            "description_tooltip": null,
            "_model_module": "@jupyter-widgets/controls",
            "layout": "IPY_MODEL_ec1bc2c2a2d748d18440643b6b26b7c0"
          }
        },
        "f2ce6fa48c634cef8d2049e89c6f7e52": {
          "model_module": "@jupyter-widgets/controls",
          "model_name": "HTMLModel",
          "state": {
            "_view_name": "HTMLView",
            "style": "IPY_MODEL_be716e1b8ac246d19dd02f532e1af3b9",
            "_dom_classes": [],
            "description": "",
            "_model_name": "HTMLModel",
            "placeholder": "​",
            "_view_module": "@jupyter-widgets/controls",
            "_model_module_version": "1.5.0",
            "value": " 0/872 [00:00&lt;?, ? examples/s]",
            "_view_count": null,
            "_view_module_version": "1.5.0",
            "description_tooltip": null,
            "_model_module": "@jupyter-widgets/controls",
            "layout": "IPY_MODEL_1bfba7b4238b48428917f0453feefb67"
          }
        },
        "d8c7bd7d535a414e9515fa5525ba4665": {
          "model_module": "@jupyter-widgets/controls",
          "model_name": "ProgressStyleModel",
          "state": {
            "_view_name": "StyleView",
            "_model_name": "ProgressStyleModel",
            "description_width": "initial",
            "_view_module": "@jupyter-widgets/base",
            "_model_module_version": "1.5.0",
            "_view_count": null,
            "_view_module_version": "1.2.0",
            "bar_color": null,
            "_model_module": "@jupyter-widgets/controls"
          }
        },
        "ec1bc2c2a2d748d18440643b6b26b7c0": {
          "model_module": "@jupyter-widgets/base",
          "model_name": "LayoutModel",
          "state": {
            "_view_name": "LayoutView",
            "grid_template_rows": null,
            "right": null,
            "justify_content": null,
            "_view_module": "@jupyter-widgets/base",
            "overflow": null,
            "_model_module_version": "1.2.0",
            "_view_count": null,
            "flex_flow": null,
            "width": null,
            "min_width": null,
            "border": null,
            "align_items": null,
            "bottom": null,
            "_model_module": "@jupyter-widgets/base",
            "top": null,
            "grid_column": null,
            "overflow_y": null,
            "overflow_x": null,
            "grid_auto_flow": null,
            "grid_area": null,
            "grid_template_columns": null,
            "flex": null,
            "_model_name": "LayoutModel",
            "justify_items": null,
            "grid_row": null,
            "max_height": null,
            "align_content": null,
            "visibility": null,
            "align_self": null,
            "height": null,
            "min_height": null,
            "padding": null,
            "grid_auto_rows": null,
            "grid_gap": null,
            "max_width": null,
            "order": null,
            "_view_module_version": "1.2.0",
            "grid_template_areas": null,
            "object_position": null,
            "object_fit": null,
            "grid_auto_columns": null,
            "margin": null,
            "display": null,
            "left": null
          }
        },
        "be716e1b8ac246d19dd02f532e1af3b9": {
          "model_module": "@jupyter-widgets/controls",
          "model_name": "DescriptionStyleModel",
          "state": {
            "_view_name": "StyleView",
            "_model_name": "DescriptionStyleModel",
            "description_width": "",
            "_view_module": "@jupyter-widgets/base",
            "_model_module_version": "1.5.0",
            "_view_count": null,
            "_view_module_version": "1.2.0",
            "_model_module": "@jupyter-widgets/controls"
          }
        },
        "1bfba7b4238b48428917f0453feefb67": {
          "model_module": "@jupyter-widgets/base",
          "model_name": "LayoutModel",
          "state": {
            "_view_name": "LayoutView",
            "grid_template_rows": null,
            "right": null,
            "justify_content": null,
            "_view_module": "@jupyter-widgets/base",
            "overflow": null,
            "_model_module_version": "1.2.0",
            "_view_count": null,
            "flex_flow": null,
            "width": null,
            "min_width": null,
            "border": null,
            "align_items": null,
            "bottom": null,
            "_model_module": "@jupyter-widgets/base",
            "top": null,
            "grid_column": null,
            "overflow_y": null,
            "overflow_x": null,
            "grid_auto_flow": null,
            "grid_area": null,
            "grid_template_columns": null,
            "flex": null,
            "_model_name": "LayoutModel",
            "justify_items": null,
            "grid_row": null,
            "max_height": null,
            "align_content": null,
            "visibility": null,
            "align_self": null,
            "height": null,
            "min_height": null,
            "padding": null,
            "grid_auto_rows": null,
            "grid_gap": null,
            "max_width": null,
            "order": null,
            "_view_module_version": "1.2.0",
            "grid_template_areas": null,
            "object_position": null,
            "object_fit": null,
            "grid_auto_columns": null,
            "margin": null,
            "display": null,
            "left": null
          }
        },
        "5f25bcda4c4d44b1bd27ae5f6c3c6bd9": {
          "model_module": "@jupyter-widgets/controls",
          "model_name": "HBoxModel",
          "state": {
            "_view_name": "HBoxView",
            "_dom_classes": [],
            "_model_name": "HBoxModel",
            "_view_module": "@jupyter-widgets/controls",
            "_model_module_version": "1.5.0",
            "_view_count": null,
            "_view_module_version": "1.5.0",
            "box_style": "",
            "layout": "IPY_MODEL_acac56b0a122471c8d7b6b80954a678d",
            "_model_module": "@jupyter-widgets/controls",
            "children": [
              "IPY_MODEL_6e1c76bd77124ec2934d6a5b258c1f24",
              "IPY_MODEL_85f5ce8810d047c793f0ea5d128b779d"
            ]
          }
        },
        "acac56b0a122471c8d7b6b80954a678d": {
          "model_module": "@jupyter-widgets/base",
          "model_name": "LayoutModel",
          "state": {
            "_view_name": "LayoutView",
            "grid_template_rows": null,
            "right": null,
            "justify_content": null,
            "_view_module": "@jupyter-widgets/base",
            "overflow": null,
            "_model_module_version": "1.2.0",
            "_view_count": null,
            "flex_flow": null,
            "width": null,
            "min_width": null,
            "border": null,
            "align_items": null,
            "bottom": null,
            "_model_module": "@jupyter-widgets/base",
            "top": null,
            "grid_column": null,
            "overflow_y": null,
            "overflow_x": null,
            "grid_auto_flow": null,
            "grid_area": null,
            "grid_template_columns": null,
            "flex": null,
            "_model_name": "LayoutModel",
            "justify_items": null,
            "grid_row": null,
            "max_height": null,
            "align_content": null,
            "visibility": null,
            "align_self": null,
            "height": null,
            "min_height": null,
            "padding": null,
            "grid_auto_rows": null,
            "grid_gap": null,
            "max_width": null,
            "order": null,
            "_view_module_version": "1.2.0",
            "grid_template_areas": null,
            "object_position": null,
            "object_fit": null,
            "grid_auto_columns": null,
            "margin": null,
            "display": null,
            "left": null
          }
        },
        "6e1c76bd77124ec2934d6a5b258c1f24": {
          "model_module": "@jupyter-widgets/controls",
          "model_name": "FloatProgressModel",
          "state": {
            "_view_name": "ProgressView",
            "style": "IPY_MODEL_df0cecc958d44cdeac42c2eac08c65b3",
            "_dom_classes": [],
            "description": "",
            "_model_name": "FloatProgressModel",
            "bar_style": "info",
            "max": 1,
            "_view_module": "@jupyter-widgets/controls",
            "_model_module_version": "1.5.0",
            "value": 1,
            "_view_count": null,
            "_view_module_version": "1.5.0",
            "orientation": "horizontal",
            "min": 0,
            "description_tooltip": null,
            "_model_module": "@jupyter-widgets/controls",
            "layout": "IPY_MODEL_5a451b4fa549413a971006a31d8642c5"
          }
        },
        "85f5ce8810d047c793f0ea5d128b779d": {
          "model_module": "@jupyter-widgets/controls",
          "model_name": "HTMLModel",
          "state": {
            "_view_name": "HTMLView",
            "style": "IPY_MODEL_36cce828907c4fe98a357be25307bdf6",
            "_dom_classes": [],
            "description": "",
            "_model_name": "HTMLModel",
            "placeholder": "​",
            "_view_module": "@jupyter-widgets/controls",
            "_model_module_version": "1.5.0",
            "value": " 1821/0 [00:00&lt;00:00, 2045.92 examples/s]",
            "_view_count": null,
            "_view_module_version": "1.5.0",
            "description_tooltip": null,
            "_model_module": "@jupyter-widgets/controls",
            "layout": "IPY_MODEL_14dc42c6655b4d47b4c21ea0c6bf6f4d"
          }
        },
        "df0cecc958d44cdeac42c2eac08c65b3": {
          "model_module": "@jupyter-widgets/controls",
          "model_name": "ProgressStyleModel",
          "state": {
            "_view_name": "StyleView",
            "_model_name": "ProgressStyleModel",
            "description_width": "initial",
            "_view_module": "@jupyter-widgets/base",
            "_model_module_version": "1.5.0",
            "_view_count": null,
            "_view_module_version": "1.2.0",
            "bar_color": null,
            "_model_module": "@jupyter-widgets/controls"
          }
        },
        "5a451b4fa549413a971006a31d8642c5": {
          "model_module": "@jupyter-widgets/base",
          "model_name": "LayoutModel",
          "state": {
            "_view_name": "LayoutView",
            "grid_template_rows": null,
            "right": null,
            "justify_content": null,
            "_view_module": "@jupyter-widgets/base",
            "overflow": null,
            "_model_module_version": "1.2.0",
            "_view_count": null,
            "flex_flow": null,
            "width": null,
            "min_width": null,
            "border": null,
            "align_items": null,
            "bottom": null,
            "_model_module": "@jupyter-widgets/base",
            "top": null,
            "grid_column": null,
            "overflow_y": null,
            "overflow_x": null,
            "grid_auto_flow": null,
            "grid_area": null,
            "grid_template_columns": null,
            "flex": null,
            "_model_name": "LayoutModel",
            "justify_items": null,
            "grid_row": null,
            "max_height": null,
            "align_content": null,
            "visibility": null,
            "align_self": null,
            "height": null,
            "min_height": null,
            "padding": null,
            "grid_auto_rows": null,
            "grid_gap": null,
            "max_width": null,
            "order": null,
            "_view_module_version": "1.2.0",
            "grid_template_areas": null,
            "object_position": null,
            "object_fit": null,
            "grid_auto_columns": null,
            "margin": null,
            "display": null,
            "left": null
          }
        },
        "36cce828907c4fe98a357be25307bdf6": {
          "model_module": "@jupyter-widgets/controls",
          "model_name": "DescriptionStyleModel",
          "state": {
            "_view_name": "StyleView",
            "_model_name": "DescriptionStyleModel",
            "description_width": "",
            "_view_module": "@jupyter-widgets/base",
            "_model_module_version": "1.5.0",
            "_view_count": null,
            "_view_module_version": "1.2.0",
            "_model_module": "@jupyter-widgets/controls"
          }
        },
        "14dc42c6655b4d47b4c21ea0c6bf6f4d": {
          "model_module": "@jupyter-widgets/base",
          "model_name": "LayoutModel",
          "state": {
            "_view_name": "LayoutView",
            "grid_template_rows": null,
            "right": null,
            "justify_content": null,
            "_view_module": "@jupyter-widgets/base",
            "overflow": null,
            "_model_module_version": "1.2.0",
            "_view_count": null,
            "flex_flow": null,
            "width": null,
            "min_width": null,
            "border": null,
            "align_items": null,
            "bottom": null,
            "_model_module": "@jupyter-widgets/base",
            "top": null,
            "grid_column": null,
            "overflow_y": null,
            "overflow_x": null,
            "grid_auto_flow": null,
            "grid_area": null,
            "grid_template_columns": null,
            "flex": null,
            "_model_name": "LayoutModel",
            "justify_items": null,
            "grid_row": null,
            "max_height": null,
            "align_content": null,
            "visibility": null,
            "align_self": null,
            "height": null,
            "min_height": null,
            "padding": null,
            "grid_auto_rows": null,
            "grid_gap": null,
            "max_width": null,
            "order": null,
            "_view_module_version": "1.2.0",
            "grid_template_areas": null,
            "object_position": null,
            "object_fit": null,
            "grid_auto_columns": null,
            "margin": null,
            "display": null,
            "left": null
          }
        },
        "0d74a5869ea44fbda8a786c09c4a54b0": {
          "model_module": "@jupyter-widgets/controls",
          "model_name": "HBoxModel",
          "state": {
            "_view_name": "HBoxView",
            "_dom_classes": [],
            "_model_name": "HBoxModel",
            "_view_module": "@jupyter-widgets/controls",
            "_model_module_version": "1.5.0",
            "_view_count": null,
            "_view_module_version": "1.5.0",
            "box_style": "",
            "layout": "IPY_MODEL_70fd27f5ace743169b0b74cf820243f1",
            "_model_module": "@jupyter-widgets/controls",
            "children": [
              "IPY_MODEL_c606ae04cbad4ffab06dd1413b0632b1",
              "IPY_MODEL_3d884f1ff92c487094b2656f9a3e1295"
            ]
          }
        },
        "70fd27f5ace743169b0b74cf820243f1": {
          "model_module": "@jupyter-widgets/base",
          "model_name": "LayoutModel",
          "state": {
            "_view_name": "LayoutView",
            "grid_template_rows": null,
            "right": null,
            "justify_content": null,
            "_view_module": "@jupyter-widgets/base",
            "overflow": null,
            "_model_module_version": "1.2.0",
            "_view_count": null,
            "flex_flow": null,
            "width": null,
            "min_width": null,
            "border": null,
            "align_items": null,
            "bottom": null,
            "_model_module": "@jupyter-widgets/base",
            "top": null,
            "grid_column": null,
            "overflow_y": null,
            "overflow_x": null,
            "grid_auto_flow": null,
            "grid_area": null,
            "grid_template_columns": null,
            "flex": null,
            "_model_name": "LayoutModel",
            "justify_items": null,
            "grid_row": null,
            "max_height": null,
            "align_content": null,
            "visibility": null,
            "align_self": null,
            "height": null,
            "min_height": null,
            "padding": null,
            "grid_auto_rows": null,
            "grid_gap": null,
            "max_width": null,
            "order": null,
            "_view_module_version": "1.2.0",
            "grid_template_areas": null,
            "object_position": null,
            "object_fit": null,
            "grid_auto_columns": null,
            "margin": null,
            "display": null,
            "left": null
          }
        },
        "c606ae04cbad4ffab06dd1413b0632b1": {
          "model_module": "@jupyter-widgets/controls",
          "model_name": "FloatProgressModel",
          "state": {
            "_view_name": "ProgressView",
            "style": "IPY_MODEL_d7fc56ba148d42e9bdf6bde4288f3a49",
            "_dom_classes": [],
            "description": "  0%",
            "_model_name": "FloatProgressModel",
            "bar_style": "danger",
            "max": 1821,
            "_view_module": "@jupyter-widgets/controls",
            "_model_module_version": "1.5.0",
            "value": 0,
            "_view_count": null,
            "_view_module_version": "1.5.0",
            "orientation": "horizontal",
            "min": 0,
            "description_tooltip": null,
            "_model_module": "@jupyter-widgets/controls",
            "layout": "IPY_MODEL_0930d531288f45bc92bcc84a1d17daab"
          }
        },
        "3d884f1ff92c487094b2656f9a3e1295": {
          "model_module": "@jupyter-widgets/controls",
          "model_name": "HTMLModel",
          "state": {
            "_view_name": "HTMLView",
            "style": "IPY_MODEL_b4ff550b566047bb84a2a9a491772fb1",
            "_dom_classes": [],
            "description": "",
            "_model_name": "HTMLModel",
            "placeholder": "​",
            "_view_module": "@jupyter-widgets/controls",
            "_model_module_version": "1.5.0",
            "value": " 0/1821 [00:00&lt;?, ? examples/s]",
            "_view_count": null,
            "_view_module_version": "1.5.0",
            "description_tooltip": null,
            "_model_module": "@jupyter-widgets/controls",
            "layout": "IPY_MODEL_16905dc3829a4c9ca1aa8216ebb68c69"
          }
        },
        "d7fc56ba148d42e9bdf6bde4288f3a49": {
          "model_module": "@jupyter-widgets/controls",
          "model_name": "ProgressStyleModel",
          "state": {
            "_view_name": "StyleView",
            "_model_name": "ProgressStyleModel",
            "description_width": "initial",
            "_view_module": "@jupyter-widgets/base",
            "_model_module_version": "1.5.0",
            "_view_count": null,
            "_view_module_version": "1.2.0",
            "bar_color": null,
            "_model_module": "@jupyter-widgets/controls"
          }
        },
        "0930d531288f45bc92bcc84a1d17daab": {
          "model_module": "@jupyter-widgets/base",
          "model_name": "LayoutModel",
          "state": {
            "_view_name": "LayoutView",
            "grid_template_rows": null,
            "right": null,
            "justify_content": null,
            "_view_module": "@jupyter-widgets/base",
            "overflow": null,
            "_model_module_version": "1.2.0",
            "_view_count": null,
            "flex_flow": null,
            "width": null,
            "min_width": null,
            "border": null,
            "align_items": null,
            "bottom": null,
            "_model_module": "@jupyter-widgets/base",
            "top": null,
            "grid_column": null,
            "overflow_y": null,
            "overflow_x": null,
            "grid_auto_flow": null,
            "grid_area": null,
            "grid_template_columns": null,
            "flex": null,
            "_model_name": "LayoutModel",
            "justify_items": null,
            "grid_row": null,
            "max_height": null,
            "align_content": null,
            "visibility": null,
            "align_self": null,
            "height": null,
            "min_height": null,
            "padding": null,
            "grid_auto_rows": null,
            "grid_gap": null,
            "max_width": null,
            "order": null,
            "_view_module_version": "1.2.0",
            "grid_template_areas": null,
            "object_position": null,
            "object_fit": null,
            "grid_auto_columns": null,
            "margin": null,
            "display": null,
            "left": null
          }
        },
        "b4ff550b566047bb84a2a9a491772fb1": {
          "model_module": "@jupyter-widgets/controls",
          "model_name": "DescriptionStyleModel",
          "state": {
            "_view_name": "StyleView",
            "_model_name": "DescriptionStyleModel",
            "description_width": "",
            "_view_module": "@jupyter-widgets/base",
            "_model_module_version": "1.5.0",
            "_view_count": null,
            "_view_module_version": "1.2.0",
            "_model_module": "@jupyter-widgets/controls"
          }
        },
        "16905dc3829a4c9ca1aa8216ebb68c69": {
          "model_module": "@jupyter-widgets/base",
          "model_name": "LayoutModel",
          "state": {
            "_view_name": "LayoutView",
            "grid_template_rows": null,
            "right": null,
            "justify_content": null,
            "_view_module": "@jupyter-widgets/base",
            "overflow": null,
            "_model_module_version": "1.2.0",
            "_view_count": null,
            "flex_flow": null,
            "width": null,
            "min_width": null,
            "border": null,
            "align_items": null,
            "bottom": null,
            "_model_module": "@jupyter-widgets/base",
            "top": null,
            "grid_column": null,
            "overflow_y": null,
            "overflow_x": null,
            "grid_auto_flow": null,
            "grid_area": null,
            "grid_template_columns": null,
            "flex": null,
            "_model_name": "LayoutModel",
            "justify_items": null,
            "grid_row": null,
            "max_height": null,
            "align_content": null,
            "visibility": null,
            "align_self": null,
            "height": null,
            "min_height": null,
            "padding": null,
            "grid_auto_rows": null,
            "grid_gap": null,
            "max_width": null,
            "order": null,
            "_view_module_version": "1.2.0",
            "grid_template_areas": null,
            "object_position": null,
            "object_fit": null,
            "grid_auto_columns": null,
            "margin": null,
            "display": null,
            "left": null
          }
        }
      }
    }
  },
  "cells": [
    {
      "cell_type": "markdown",
      "metadata": {
        "id": "view-in-github",
        "colab_type": "text"
      },
      "source": [
        "<a href=\"https://colab.research.google.com/github/Haarini/Movie-Review-Sentiment-Analysis/blob/master/Sentiment_Prediction.ipynb\" target=\"_parent\"><img src=\"https://colab.research.google.com/assets/colab-badge.svg\" alt=\"Open In Colab\"/></a>"
      ]
    },
    {
      "cell_type": "markdown",
      "metadata": {
        "id": "8Nj2c44AtrLm",
        "colab_type": "text"
      },
      "source": [
        "# An Analysis of sentiments in a movie review dataset using different neural network algorithms"
      ]
    },
    {
      "cell_type": "markdown",
      "metadata": {
        "id": "CC_qgpm_uEk5",
        "colab_type": "text"
      },
      "source": [
        "Importing the necessary libraries "
      ]
    },
    {
      "cell_type": "code",
      "metadata": {
        "id": "q_fjb290Lly1",
        "colab_type": "code",
        "colab": {}
      },
      "source": [
        "import tensorflow as tf\n",
        "import tensorflow_datasets as tfds\n",
        "import numpy as np"
      ],
      "execution_count": 0,
      "outputs": []
    },
    {
      "cell_type": "markdown",
      "metadata": {
        "id": "S5lwxE-TuR-W",
        "colab_type": "text"
      },
      "source": [
        "Importing the glue (The Stanford Sentiment Treebank) dataset that consists of sentences from movie reviews and human annotations of their sentiments"
      ]
    },
    {
      "cell_type": "code",
      "metadata": {
        "id": "QNd1q_ieLw2b",
        "colab_type": "code",
        "colab": {
          "base_uri": "https://localhost:8080/",
          "height": 460,
          "referenced_widgets": [
            "8a75ea4e59a24c60b1c0cc8cb15822b0",
            "06c8d2385340495bb401734745ad416c",
            "289fecc3a43f4e71b64cc7743eb8e6ba",
            "2bda96a7745240bf8cbc8485cc1f884a",
            "e37812fb41704b9990627f9bceaaf7b7",
            "6226ff7f216048c6b6127bf7f3404664",
            "092ebfaa8c8b4913aeca8ff2dee14c0a",
            "a1ffcd1f39914b2baf33246ed3135970",
            "e0c950843c7042979b7a915bcca01614",
            "0270a51a421a43079d9426313753afdf",
            "901c00ebbacb4b13b5bc1f50213c62cc",
            "7e858d71463d4b60912832b3835d6bc8",
            "cff32fe196b0411bb3dce18caf1ace4d",
            "9d813e9ac0e9410cae432629c736b5d0",
            "49f57aaa14de45618b439888236aa37e",
            "111b3cb2691e4b6c8d5580ca95a2dadb",
            "c7927088b8fc4760918a3b1396d7f90b",
            "c00dfb4876194a029dc77ef7e0182474",
            "9eadbf82842c42848c20d2a63b3550f1",
            "d221419120454ae4b52249c143210f8f",
            "6cc188ce81f84ee180f15a144773103c",
            "f81963f36deb4e6288271bc2bcb8245c",
            "03f52babb0bb4fc88dbbc9f639f239bf",
            "0256a347ec0546dda4ab7807e5077b29",
            "10ee2051a5284393a76f859ae0a54dd1",
            "0a7b567860aa4d13b89d10a94f13e1ca",
            "de763b2eec4a4b52aa881eed40330f4e",
            "e90133ae06794891af452f46f956713f",
            "622ef2ce939045b1b0a30da95877af62",
            "d2196ca870934a76a2c6b09f0f9a7b9f",
            "fe8a591f385a42f383f56233583c4809",
            "38fbb59e03214609bb265ac1a95fb459",
            "00fe1458d11f4080bcae61b5fd499de8",
            "c9007db28a17405fba08509871b376dc",
            "7536474cf0d242b4ada2204b9065e169",
            "b66ca3abdc5645da9bf5c1f15eb2f5f5",
            "c3238f5032154c18bb44ed9550295115",
            "79bb1a80dc054c149c49932c943825df",
            "edb9e7f24aaf49a6b0be7dd15e721451",
            "e7a408aff4b64225b9e046bf3b44f3e5",
            "d068ab776a544016affdecaf837c133c",
            "7d4d176763884fc487c321679297d275",
            "664f3fd6dfd743349d55c93dde324173",
            "1ce0f00edbd94092a7e2d494e1cf36ba",
            "a86d132ffe1649408f89c6d19f1fbb78",
            "0477e09406eb4750860cf45d579c07ee",
            "2444ac1054864b64b696e0f8c3f3c8c6",
            "cef4da551d3b4b6db32bf48d8a81907a",
            "2155a672322b4ac2a4007191f4dcc50e",
            "ed0075cf8cf748ab9d12e4eb62afc6ce",
            "2034315e7c6d4ecebab278824ca92922",
            "f2ce6fa48c634cef8d2049e89c6f7e52",
            "d8c7bd7d535a414e9515fa5525ba4665",
            "ec1bc2c2a2d748d18440643b6b26b7c0",
            "be716e1b8ac246d19dd02f532e1af3b9",
            "1bfba7b4238b48428917f0453feefb67",
            "5f25bcda4c4d44b1bd27ae5f6c3c6bd9",
            "acac56b0a122471c8d7b6b80954a678d",
            "6e1c76bd77124ec2934d6a5b258c1f24",
            "85f5ce8810d047c793f0ea5d128b779d",
            "df0cecc958d44cdeac42c2eac08c65b3",
            "5a451b4fa549413a971006a31d8642c5",
            "36cce828907c4fe98a357be25307bdf6",
            "14dc42c6655b4d47b4c21ea0c6bf6f4d",
            "0d74a5869ea44fbda8a786c09c4a54b0",
            "70fd27f5ace743169b0b74cf820243f1",
            "c606ae04cbad4ffab06dd1413b0632b1",
            "3d884f1ff92c487094b2656f9a3e1295",
            "d7fc56ba148d42e9bdf6bde4288f3a49",
            "0930d531288f45bc92bcc84a1d17daab",
            "b4ff550b566047bb84a2a9a491772fb1",
            "16905dc3829a4c9ca1aa8216ebb68c69"
          ]
        },
        "outputId": "f705acf3-a06f-4bae-f087-5ef51c927496"
      },
      "source": [
        "dataset,info=tfds.load('glue/sst2',with_info=True)"
      ],
      "execution_count": 2,
      "outputs": [
        {
          "output_type": "stream",
          "text": [
            "\u001b[1mDownloading and preparing dataset glue/sst2/1.0.0 (download: 7.09 MiB, generated: Unknown size, total: 7.09 MiB) to /root/tensorflow_datasets/glue/sst2/1.0.0...\u001b[0m\n"
          ],
          "name": "stdout"
        },
        {
          "output_type": "display_data",
          "data": {
            "application/vnd.jupyter.widget-view+json": {
              "model_id": "8a75ea4e59a24c60b1c0cc8cb15822b0",
              "version_minor": 0,
              "version_major": 2
            },
            "text/plain": [
              "HBox(children=(FloatProgress(value=1.0, bar_style='info', description='Dl Completed...', max=1.0, style=Progre…"
            ]
          },
          "metadata": {
            "tags": []
          }
        },
        {
          "output_type": "display_data",
          "data": {
            "application/vnd.jupyter.widget-view+json": {
              "model_id": "e0c950843c7042979b7a915bcca01614",
              "version_minor": 0,
              "version_major": 2
            },
            "text/plain": [
              "HBox(children=(FloatProgress(value=1.0, bar_style='info', description='Dl Size...', max=1.0, style=ProgressSty…"
            ]
          },
          "metadata": {
            "tags": []
          }
        },
        {
          "output_type": "display_data",
          "data": {
            "application/vnd.jupyter.widget-view+json": {
              "model_id": "c7927088b8fc4760918a3b1396d7f90b",
              "version_minor": 0,
              "version_major": 2
            },
            "text/plain": [
              "HBox(children=(FloatProgress(value=1.0, bar_style='info', description='Extraction completed...', max=1.0, styl…"
            ]
          },
          "metadata": {
            "tags": []
          }
        },
        {
          "output_type": "stream",
          "text": [
            "/usr/local/lib/python3.6/dist-packages/urllib3/connectionpool.py:847: InsecureRequestWarning: Unverified HTTPS request is being made. Adding certificate verification is strongly advised. See: https://urllib3.readthedocs.io/en/latest/advanced-usage.html#ssl-warnings\n",
            "  InsecureRequestWarning)\n"
          ],
          "name": "stderr"
        },
        {
          "output_type": "stream",
          "text": [
            "\n",
            "\n",
            "\n",
            "\n",
            "\n",
            "\n"
          ],
          "name": "stdout"
        },
        {
          "output_type": "display_data",
          "data": {
            "application/vnd.jupyter.widget-view+json": {
              "model_id": "10ee2051a5284393a76f859ae0a54dd1",
              "version_minor": 0,
              "version_major": 2
            },
            "text/plain": [
              "HBox(children=(FloatProgress(value=1.0, bar_style='info', max=1.0), HTML(value='')))"
            ]
          },
          "metadata": {
            "tags": []
          }
        },
        {
          "output_type": "stream",
          "text": [
            "\rShuffling and writing examples to /root/tensorflow_datasets/glue/sst2/1.0.0.incompleteP901J3/glue-train.tfrecord\n"
          ],
          "name": "stdout"
        },
        {
          "output_type": "display_data",
          "data": {
            "application/vnd.jupyter.widget-view+json": {
              "model_id": "00fe1458d11f4080bcae61b5fd499de8",
              "version_minor": 0,
              "version_major": 2
            },
            "text/plain": [
              "HBox(children=(FloatProgress(value=0.0, max=67349.0), HTML(value='')))"
            ]
          },
          "metadata": {
            "tags": []
          }
        },
        {
          "output_type": "stream",
          "text": [
            "\r"
          ],
          "name": "stdout"
        },
        {
          "output_type": "display_data",
          "data": {
            "application/vnd.jupyter.widget-view+json": {
              "model_id": "d068ab776a544016affdecaf837c133c",
              "version_minor": 0,
              "version_major": 2
            },
            "text/plain": [
              "HBox(children=(FloatProgress(value=1.0, bar_style='info', max=1.0), HTML(value='')))"
            ]
          },
          "metadata": {
            "tags": []
          }
        },
        {
          "output_type": "stream",
          "text": [
            "\rShuffling and writing examples to /root/tensorflow_datasets/glue/sst2/1.0.0.incompleteP901J3/glue-validation.tfrecord\n"
          ],
          "name": "stdout"
        },
        {
          "output_type": "display_data",
          "data": {
            "application/vnd.jupyter.widget-view+json": {
              "model_id": "2155a672322b4ac2a4007191f4dcc50e",
              "version_minor": 0,
              "version_major": 2
            },
            "text/plain": [
              "HBox(children=(FloatProgress(value=0.0, max=872.0), HTML(value='')))"
            ]
          },
          "metadata": {
            "tags": []
          }
        },
        {
          "output_type": "stream",
          "text": [
            "\r"
          ],
          "name": "stdout"
        },
        {
          "output_type": "display_data",
          "data": {
            "application/vnd.jupyter.widget-view+json": {
              "model_id": "5f25bcda4c4d44b1bd27ae5f6c3c6bd9",
              "version_minor": 0,
              "version_major": 2
            },
            "text/plain": [
              "HBox(children=(FloatProgress(value=1.0, bar_style='info', max=1.0), HTML(value='')))"
            ]
          },
          "metadata": {
            "tags": []
          }
        },
        {
          "output_type": "stream",
          "text": [
            "\rShuffling and writing examples to /root/tensorflow_datasets/glue/sst2/1.0.0.incompleteP901J3/glue-test.tfrecord\n"
          ],
          "name": "stdout"
        },
        {
          "output_type": "display_data",
          "data": {
            "application/vnd.jupyter.widget-view+json": {
              "model_id": "0d74a5869ea44fbda8a786c09c4a54b0",
              "version_minor": 0,
              "version_major": 2
            },
            "text/plain": [
              "HBox(children=(FloatProgress(value=0.0, max=1821.0), HTML(value='')))"
            ]
          },
          "metadata": {
            "tags": []
          }
        },
        {
          "output_type": "stream",
          "text": [
            "\u001b[1mDataset glue downloaded and prepared to /root/tensorflow_datasets/glue/sst2/1.0.0. Subsequent calls will reuse this data.\u001b[0m\n",
            "\r"
          ],
          "name": "stdout"
        }
      ]
    },
    {
      "cell_type": "markdown",
      "metadata": {
        "id": "n_5Smt7CvA9j",
        "colab_type": "text"
      },
      "source": [
        "Printing the features of the dataset. "
      ]
    },
    {
      "cell_type": "markdown",
      "metadata": {
        "id": "QQX8qC7HvPKJ",
        "colab_type": "text"
      },
      "source": [
        "There are two classes of sentiments namely negative and positive among which these reviews are going to be scaled and classified"
      ]
    },
    {
      "cell_type": "code",
      "metadata": {
        "id": "rCj_aRRYL57t",
        "colab_type": "code",
        "colab": {
          "base_uri": "https://localhost:8080/",
          "height": 141
        },
        "outputId": "8700e24a-11fd-458c-960a-2014807f7476"
      },
      "source": [
        "print(info.features)\n",
        "print(info.features[\"label\"].num_classes)\n",
        "print(info.features[\"label\"].names)"
      ],
      "execution_count": 3,
      "outputs": [
        {
          "output_type": "stream",
          "text": [
            "FeaturesDict({\n",
            "    'idx': tf.int32,\n",
            "    'label': ClassLabel(shape=(), dtype=tf.int64, num_classes=2),\n",
            "    'sentence': Text(shape=(), dtype=tf.string),\n",
            "})\n",
            "2\n",
            "['negative', 'positive']\n"
          ],
          "name": "stdout"
        }
      ]
    },
    {
      "cell_type": "markdown",
      "metadata": {
        "id": "vs9ID0UhxYKz",
        "colab_type": "text"
      },
      "source": [
        "Dividing the imported dataset into training and validation datasets"
      ]
    },
    {
      "cell_type": "code",
      "metadata": {
        "id": "b3nzWtDnMIHy",
        "colab_type": "code",
        "colab": {}
      },
      "source": [
        "dataset_train,dataset_validation=dataset['train'],dataset['validation']"
      ],
      "execution_count": 0,
      "outputs": []
    },
    {
      "cell_type": "code",
      "metadata": {
        "id": "tXKOWrjGMVmZ",
        "colab_type": "code",
        "colab": {
          "base_uri": "https://localhost:8080/",
          "height": 34
        },
        "outputId": "07957d3f-09b5-48cb-986d-42f258f0594d"
      },
      "source": [
        "dataset_train\n",
        "dataset_validation"
      ],
      "execution_count": 5,
      "outputs": [
        {
          "output_type": "execute_result",
          "data": {
            "text/plain": [
              "<DatasetV1Adapter shapes: {idx: (), label: (), sentence: ()}, types: {idx: tf.int32, label: tf.int64, sentence: tf.string}>"
            ]
          },
          "metadata": {
            "tags": []
          },
          "execution_count": 5
        }
      ]
    },
    {
      "cell_type": "code",
      "metadata": {
        "id": "UCVib2KBMY3q",
        "colab_type": "code",
        "colab": {
          "base_uri": "https://localhost:8080/",
          "height": 123
        },
        "outputId": "03125533-9df6-4722-cc03-6cd08a6a3783"
      },
      "source": [
        "for sample in dataset_train.take(2):\n",
        "  review,label=sample[\"sentence\"],sample[\"label\"]\n",
        "  print(\"Review:\",review)\n",
        "  print(\"Label : %d \\n\" %label.numpy())"
      ],
      "execution_count": 6,
      "outputs": [
        {
          "output_type": "stream",
          "text": [
            "Review: tf.Tensor(b'for the uninitiated plays better on video with the sound ', shape=(), dtype=string)\n",
            "Label : 0 \n",
            "\n",
            "Review: tf.Tensor(b'like a giant commercial for universal studios , where much of the action takes place ', shape=(), dtype=string)\n",
            "Label : 0 \n",
            "\n"
          ],
          "name": "stdout"
        }
      ]
    },
    {
      "cell_type": "markdown",
      "metadata": {
        "id": "pfYcqg-Fxeq-",
        "colab_type": "text"
      },
      "source": [
        "The dataset will label 1 for a positive review and 0 for a negative review"
      ]
    },
    {
      "cell_type": "code",
      "metadata": {
        "id": "b5wOOWAQNH7o",
        "colab_type": "code",
        "colab": {
          "base_uri": "https://localhost:8080/",
          "height": 498
        },
        "outputId": "ab7edc03-4986-494e-f101-e7dd8700e59f"
      },
      "source": [
        "training_reviews=[]\n",
        "training_labels=[]\n",
        "validation_reviews=[]\n",
        "validation_labels=[]\n",
        "\n",
        "for item in dataset_train.take(10000):\n",
        "  review,label=item[\"sentence\"],item[\"label\"]\n",
        "  training_reviews.append(str(review.numpy()))\n",
        "  training_labels.append(label.numpy())\n",
        "\n",
        "print(\"\\n Number of training reviews is:\" , len(training_reviews))\n",
        "\n",
        "print(\"Training reviews and lables\")\n",
        "for i in range(0,5):\n",
        "  print(training_reviews[i])\n",
        "  print(training_labels[i])\n",
        "\n",
        "for item in dataset_validation.take(-1):\n",
        "  review,label=item['sentence'],item[\"label\"]\n",
        "  validation_reviews.append(str(review.numpy()))\n",
        "  validation_labels.append(label.numpy())\n",
        "\n",
        "print (\"\\nNumber of validation reviews is: \", len(validation_reviews))\n",
        "\n",
        "print(\"Validation reviews and labels\")\n",
        "for i in range(0, 5):\n",
        "  print (validation_reviews[i])\n",
        "  print (validation_labels[i])"
      ],
      "execution_count": 9,
      "outputs": [
        {
          "output_type": "stream",
          "text": [
            "\n",
            " Number of training reviews is: 10000\n",
            "Training reviews and lables\n",
            "b'for the uninitiated plays better on video with the sound '\n",
            "0\n",
            "b'like a giant commercial for universal studios , where much of the action takes place '\n",
            "0\n",
            "b'company once again dazzle and delight us '\n",
            "1\n",
            "b\"'s no surprise that as a director washington demands and receives excellent performances , from himself and from newcomer derek luke \"\n",
            "1\n",
            "b', this cross-cultural soap opera is painfully formulaic and stilted . '\n",
            "0\n",
            "\n",
            "Number of validation reviews is:  872\n",
            "Validation reviews and labels\n",
            "b'a valueless kiddie paean to pro basketball underwritten by the nba . '\n",
            "0\n",
            "b\"featuring a dangerously seductive performance from the great daniel auteuil , `` sade '' covers the same period as kaufmann 's `` quills '' with more unsettlingly realistic results . \"\n",
            "1\n",
            "b'i am sorry that i was unable to get the full brunt of the comedy . '\n",
            "0\n",
            "b'the inspirational screenplay by mike rich covers a lot of ground , perhaps too much , but ties things together , neatly , by the end . '\n",
            "1\n",
            "b\"from the opening scenes , it 's clear that all about the benjamins is a totally formulaic movie . \"\n",
            "0\n"
          ],
          "name": "stdout"
        }
      ]
    },
    {
      "cell_type": "markdown",
      "metadata": {
        "id": "GrYrm6U2xw0o",
        "colab_type": "text"
      },
      "source": [
        "Defining the basic text preprocessing data required and tokenizing the data"
      ]
    },
    {
      "cell_type": "code",
      "metadata": {
        "id": "orjhPyc8QGZu",
        "colab_type": "code",
        "colab": {}
      },
      "source": [
        "vocab_size = 4000\n",
        "embedding_dim = 16\n",
        "max_length = 50\n",
        "trunc_type='post'\n",
        "pad_type='post'\n",
        "oov_tok = \"<OOV>\"\n",
        "\n",
        "from tensorflow.keras.preprocessing.text import Tokenizer\n",
        "from tensorflow.keras.preprocessing.sequence import pad_sequences\n",
        "\n",
        "tokenizer = Tokenizer(num_words = vocab_size, oov_token=oov_tok)\n",
        "tokenizer.fit_on_texts(training_reviews)\n",
        "word_index = tokenizer.word_index\n"
      ],
      "execution_count": 0,
      "outputs": []
    },
    {
      "cell_type": "markdown",
      "metadata": {
        "id": "wXnI-lPhxvZ5",
        "colab_type": "text"
      },
      "source": [
        "Padding the input sequence after tokenizing the input data"
      ]
    },
    {
      "cell_type": "code",
      "metadata": {
        "id": "fr70z5GuQPOK",
        "colab_type": "code",
        "colab": {}
      },
      "source": [
        "# Pad the sequences so that they are all the same length\n",
        "training_sequences = tokenizer.texts_to_sequences(training_reviews)\n",
        "training_padded = pad_sequences(training_sequences,maxlen=max_length, \n",
        "                                truncating=trunc_type, padding=pad_type)\n",
        "\n",
        "validation_sequences = tokenizer.texts_to_sequences(validation_reviews)\n",
        "validation_padded = pad_sequences(validation_sequences,maxlen=max_length)\n",
        "\n",
        "training_labels_final = np.array(training_labels)\n",
        "validation_labels_final = np.array(validation_labels)"
      ],
      "execution_count": 0,
      "outputs": []
    },
    {
      "cell_type": "markdown",
      "metadata": {
        "id": "F1tf1MIex7wT",
        "colab_type": "text"
      },
      "source": [
        "Defining a neural network using tensorflow to process the tokenized and padded text embeddings"
      ]
    },
    {
      "cell_type": "code",
      "metadata": {
        "id": "-N8dhp3AQR5Q",
        "colab_type": "code",
        "colab": {
          "base_uri": "https://localhost:8080/",
          "height": 265
        },
        "outputId": "c5b10fcd-e450-4fe2-a678-2964bb3e8308"
      },
      "source": [
        "model=tf.keras.Sequential([\n",
        "                           tf.keras.layers.Embedding(vocab_size,embedding_dim,input_length=max_length),\n",
        "                           tf.keras.layers.GlobalAveragePooling1D(),\n",
        "                           tf.keras.layers.Dense(1,activation='sigmoid')\n",
        "])\n",
        "model.compile(loss='binary_crossentropy',optimizer='adam',metrics=['accuracy'])\n",
        "model.summary()"
      ],
      "execution_count": 12,
      "outputs": [
        {
          "output_type": "stream",
          "text": [
            "Model: \"sequential\"\n",
            "_________________________________________________________________\n",
            "Layer (type)                 Output Shape              Param #   \n",
            "=================================================================\n",
            "embedding (Embedding)        (None, 50, 16)            64000     \n",
            "_________________________________________________________________\n",
            "global_average_pooling1d (Gl (None, 16)                0         \n",
            "_________________________________________________________________\n",
            "dense (Dense)                (None, 1)                 17        \n",
            "=================================================================\n",
            "Total params: 64,017\n",
            "Trainable params: 64,017\n",
            "Non-trainable params: 0\n",
            "_________________________________________________________________\n"
          ],
          "name": "stdout"
        }
      ]
    },
    {
      "cell_type": "code",
      "metadata": {
        "id": "7jPyxCqkQyqM",
        "colab_type": "code",
        "colab": {
          "base_uri": "https://localhost:8080/",
          "height": 905
        },
        "outputId": "51ba7298-adfb-4043-c22a-045d84b17bd9"
      },
      "source": [
        "num_epochs=25\n",
        "history=model.fit(training_padded,training_labels_final,epochs=num_epochs,validation_data=\n",
        "                  (validation_padded,validation_labels_final))"
      ],
      "execution_count": 13,
      "outputs": [
        {
          "output_type": "stream",
          "text": [
            "Epoch 1/25\n",
            "313/313 [==============================] - 1s 3ms/step - loss: 0.6835 - accuracy: 0.5583 - val_loss: 0.6864 - val_accuracy: 0.5344\n",
            "Epoch 2/25\n",
            "313/313 [==============================] - 1s 2ms/step - loss: 0.6715 - accuracy: 0.5766 - val_loss: 0.6713 - val_accuracy: 0.6009\n",
            "Epoch 3/25\n",
            "313/313 [==============================] - 1s 2ms/step - loss: 0.6508 - accuracy: 0.6249 - val_loss: 0.6448 - val_accuracy: 0.6571\n",
            "Epoch 4/25\n",
            "313/313 [==============================] - 1s 2ms/step - loss: 0.6220 - accuracy: 0.6728 - val_loss: 0.6152 - val_accuracy: 0.6904\n",
            "Epoch 5/25\n",
            "313/313 [==============================] - 1s 2ms/step - loss: 0.5890 - accuracy: 0.7132 - val_loss: 0.5840 - val_accuracy: 0.7041\n",
            "Epoch 6/25\n",
            "313/313 [==============================] - 1s 2ms/step - loss: 0.5551 - accuracy: 0.7436 - val_loss: 0.5556 - val_accuracy: 0.7122\n",
            "Epoch 7/25\n",
            "313/313 [==============================] - 1s 2ms/step - loss: 0.5240 - accuracy: 0.7668 - val_loss: 0.5321 - val_accuracy: 0.7466\n",
            "Epoch 8/25\n",
            "313/313 [==============================] - 1s 2ms/step - loss: 0.4947 - accuracy: 0.7912 - val_loss: 0.5159 - val_accuracy: 0.7454\n",
            "Epoch 9/25\n",
            "313/313 [==============================] - 1s 2ms/step - loss: 0.4685 - accuracy: 0.8063 - val_loss: 0.5018 - val_accuracy: 0.7626\n",
            "Epoch 10/25\n",
            "313/313 [==============================] - 1s 2ms/step - loss: 0.4450 - accuracy: 0.8181 - val_loss: 0.4932 - val_accuracy: 0.7569\n",
            "Epoch 11/25\n",
            "313/313 [==============================] - 1s 2ms/step - loss: 0.4239 - accuracy: 0.8288 - val_loss: 0.4885 - val_accuracy: 0.7638\n",
            "Epoch 12/25\n",
            "313/313 [==============================] - 1s 2ms/step - loss: 0.4054 - accuracy: 0.8371 - val_loss: 0.4849 - val_accuracy: 0.7649\n",
            "Epoch 13/25\n",
            "313/313 [==============================] - 1s 2ms/step - loss: 0.3886 - accuracy: 0.8429 - val_loss: 0.4839 - val_accuracy: 0.7649\n",
            "Epoch 14/25\n",
            "313/313 [==============================] - 1s 2ms/step - loss: 0.3732 - accuracy: 0.8503 - val_loss: 0.4852 - val_accuracy: 0.7683\n",
            "Epoch 15/25\n",
            "313/313 [==============================] - 1s 2ms/step - loss: 0.3598 - accuracy: 0.8517 - val_loss: 0.4901 - val_accuracy: 0.7615\n",
            "Epoch 16/25\n",
            "313/313 [==============================] - 1s 2ms/step - loss: 0.3469 - accuracy: 0.8568 - val_loss: 0.4937 - val_accuracy: 0.7683\n",
            "Epoch 17/25\n",
            "313/313 [==============================] - 1s 2ms/step - loss: 0.3351 - accuracy: 0.8645 - val_loss: 0.4991 - val_accuracy: 0.7683\n",
            "Epoch 18/25\n",
            "313/313 [==============================] - 1s 2ms/step - loss: 0.3249 - accuracy: 0.8638 - val_loss: 0.5054 - val_accuracy: 0.7787\n",
            "Epoch 19/25\n",
            "313/313 [==============================] - 1s 2ms/step - loss: 0.3157 - accuracy: 0.8654 - val_loss: 0.5111 - val_accuracy: 0.7695\n",
            "Epoch 20/25\n",
            "313/313 [==============================] - 1s 2ms/step - loss: 0.3061 - accuracy: 0.8709 - val_loss: 0.5218 - val_accuracy: 0.7649\n",
            "Epoch 21/25\n",
            "313/313 [==============================] - 1s 2ms/step - loss: 0.2979 - accuracy: 0.8729 - val_loss: 0.5296 - val_accuracy: 0.7672\n",
            "Epoch 22/25\n",
            "313/313 [==============================] - 1s 2ms/step - loss: 0.2899 - accuracy: 0.8768 - val_loss: 0.5421 - val_accuracy: 0.7569\n",
            "Epoch 23/25\n",
            "313/313 [==============================] - 1s 3ms/step - loss: 0.2831 - accuracy: 0.8779 - val_loss: 0.5543 - val_accuracy: 0.7603\n",
            "Epoch 24/25\n",
            "313/313 [==============================] - 1s 2ms/step - loss: 0.2758 - accuracy: 0.8796 - val_loss: 0.5605 - val_accuracy: 0.7752\n",
            "Epoch 25/25\n",
            "313/313 [==============================] - 1s 2ms/step - loss: 0.2702 - accuracy: 0.8830 - val_loss: 0.5790 - val_accuracy: 0.7546\n"
          ],
          "name": "stdout"
        }
      ]
    },
    {
      "cell_type": "markdown",
      "metadata": {
        "id": "6rj2Yv3QyPd7",
        "colab_type": "text"
      },
      "source": [
        "This embedding model gave a training accuracy of 88% and vlidation accuracy of 75% which are plotted in the graph"
      ]
    },
    {
      "cell_type": "code",
      "metadata": {
        "id": "DF5I9saBRT1U",
        "colab_type": "code",
        "colab": {
          "base_uri": "https://localhost:8080/",
          "height": 545
        },
        "outputId": "eaa10098-c84c-4abf-b790-eb699c6b99a4"
      },
      "source": [
        "import matplotlib.pyplot as plt\n",
        "\n",
        "def plot_graphs(history, string):\n",
        "  plt.plot(history.history[string])\n",
        "  plt.plot(history.history['val_'+string])\n",
        "  plt.xlabel(\"Epochs\")\n",
        "  plt.ylabel(string)\n",
        "  plt.legend([string, 'val_'+string])\n",
        "  plt.show()\n",
        "  \n",
        "plot_graphs(history, \"accuracy\")\n",
        "plot_graphs(history, \"loss\")\n"
      ],
      "execution_count": 17,
      "outputs": [
        {
          "output_type": "display_data",
          "data": {
            "image/png": "[encoded data removed]",
            "text/plain": [
              "<Figure size 432x288 with 1 Axes>"
            ]
          },
          "metadata": {
            "tags": [],
            "needs_background": "light"
          }
        },
        {
          "output_type": "display_data",
          "data": {
            "image/png": "[encoded data removed]",
            "text/plain": [
              "<Figure size 432x288 with 1 Axes>"
            ]
          },
          "metadata": {
            "tags": [],
            "needs_background": "light"
          }
        }
      ]
    },
    {
      "cell_type": "markdown",
      "metadata": {
        "id": "z0zkgDD1zIHL",
        "colab_type": "text"
      },
      "source": [
        "Inputting some random reviews to check for the model's sentiment prediction.\n",
        "The prediction scale ranges between 0(negative) to 1(positive)"
      ]
    },
    {
      "cell_type": "code",
      "metadata": {
        "id": "7ax7Q064SzL6",
        "colab_type": "code",
        "colab": {
          "base_uri": "https://localhost:8080/",
          "height": 34
        },
        "outputId": "ba8de663-6865-481e-ce96-5def6534dd4b"
      },
      "source": [
        "review_1 = \"\"\"The moview was really good\"\"\"\n",
        "review_2 = \"\"\"It was a very horrible movie\"\"\"\n",
        "review_3 = \"\"\"The story behind the moview was good but the way it was shot was not upto the mark\"\"\"\n",
        "new_reviews=[review_1,review_2,review_3]\n",
        "print(new_reviews)"
      ],
      "execution_count": 18,
      "outputs": [
        {
          "output_type": "stream",
          "text": [
            "['The moview was really good', 'It was a very horrible movie', 'The story behind the moview was good but the way it was shot was not upto the mark']\n"
          ],
          "name": "stdout"
        }
      ]
    },
    {
      "cell_type": "markdown",
      "metadata": {
        "id": "GQNAmzCzzWx1",
        "colab_type": "text"
      },
      "source": [
        ""
      ]
    },
    {
      "cell_type": "code",
      "metadata": {
        "id": "uoOqqG78TW3g",
        "colab_type": "code",
        "colab": {
          "base_uri": "https://localhost:8080/",
          "height": 230
        },
        "outputId": "00d6e3e7-315d-4f10-b0f7-a2bbb6b1e9e8"
      },
      "source": [
        "def predictreview(model, reviews):\n",
        "\n",
        "  padding_type='post'\n",
        "  sample_sequences = tokenizer.texts_to_sequences(reviews)\n",
        "  reviews_padded = pad_sequences(sample_sequences,padding=padding_type,maxlen=max_length)\n",
        "  classes = model.predict(reviews_padded)\n",
        "  for x in range(len(reviews_padded)):\n",
        "    print(reviews[x])\n",
        "    print(classes[x])\n",
        "    print('\\n')\n",
        "\n",
        "predictreview(model,new_reviews)\n",
        "\n"
      ],
      "execution_count": 25,
      "outputs": [
        {
          "output_type": "stream",
          "text": [
            "The moview was really good\n",
            "[0.7615478]\n",
            "\n",
            "\n",
            "It was a very horrible movie\n",
            "[0.26081142]\n",
            "\n",
            "\n",
            "The story behind the moview was good but the way it was shot was not upto the mark\n",
            "[0.9735791]\n",
            "\n",
            "\n"
          ],
          "name": "stdout"
        }
      ]
    },
    {
      "cell_type": "markdown",
      "metadata": {
        "id": "N7zqEYxyza0m",
        "colab_type": "text"
      },
      "source": [
        "#Comparison of CNN, GRU , Single Bideirectional LSTM , Multiple Bidirectional LSTM for the movie review sentiment analysis"
      ]
    },
    {
      "cell_type": "code",
      "metadata": {
        "id": "2tFIMwxOXnJt",
        "colab_type": "code",
        "colab": {}
      },
      "source": [
        "def show_results(model, reviews):\n",
        "  model.summary()\n",
        "  history=model.fit(training_padded,training_labels_final,epochs=num_epochs,validation_data=(validation_padded,validation_labels_final))\n",
        "  plot_graphs(history, \"accuracy\")\n",
        "  plot_graphs(history, \"loss\")\n",
        "  predictreview(model, reviews)"
      ],
      "execution_count": 0,
      "outputs": []
    },
    {
      "cell_type": "markdown",
      "metadata": {
        "id": "xp4syvpuz59Q",
        "colab_type": "text"
      },
      "source": [
        "A CNN model for review analysis"
      ]
    },
    {
      "cell_type": "code",
      "metadata": {
        "id": "recsOtcXYG9U",
        "colab_type": "code",
        "colab": {
          "base_uri": "https://localhost:8080/",
          "height": 1000
        },
        "outputId": "8a9e647a-68ab-4572-c949-388f4fb09d64"
      },
      "source": [
        "num_epochs=50\n",
        "cnn_model=tf.keras.Sequential([\n",
        "                               tf.keras.layers.Embedding(vocab_size,embedding_dim,input_length=max_length),\n",
        "                               tf.keras.layers.Conv1D(16,5,activation='relu'),\n",
        "                               tf.keras.layers.GlobalMaxPool1D(),\n",
        "                               tf.keras.layers.Dense(1,activation='sigmoid')\n",
        "])\n",
        "learning_rate = 0.0001\n",
        "cnn_model.compile(loss='binary_crossentropy',\n",
        "                  optimizer=tf.keras.optimizers.Adam(learning_rate), \n",
        "                  metrics=['accuracy'])\n",
        "show_results(cnn_model, new_reviews)"
      ],
      "execution_count": 27,
      "outputs": [
        {
          "output_type": "stream",
          "text": [
            "Model: \"sequential_1\"\n",
            "_________________________________________________________________\n",
            "Layer (type)                 Output Shape              Param #   \n",
            "=================================================================\n",
            "embedding_1 (Embedding)      (None, 50, 16)            64000     \n",
            "_________________________________________________________________\n",
            "conv1d (Conv1D)              (None, 46, 16)            1296      \n",
            "_________________________________________________________________\n",
            "global_max_pooling1d (Global (None, 16)                0         \n",
            "_________________________________________________________________\n",
            "dense_1 (Dense)              (None, 1)                 17        \n",
            "=================================================================\n",
            "Total params: 65,313\n",
            "Trainable params: 65,313\n",
            "Non-trainable params: 0\n",
            "_________________________________________________________________\n",
            "Epoch 1/50\n",
            "313/313 [==============================] - 1s 4ms/step - loss: 0.6910 - accuracy: 0.5360 - val_loss: 0.6922 - val_accuracy: 0.5264\n",
            "Epoch 2/50\n",
            "313/313 [==============================] - 1s 4ms/step - loss: 0.6837 - accuracy: 0.5592 - val_loss: 0.6911 - val_accuracy: 0.5103\n",
            "Epoch 3/50\n",
            "313/313 [==============================] - 1s 4ms/step - loss: 0.6790 - accuracy: 0.5591 - val_loss: 0.6897 - val_accuracy: 0.5161\n",
            "Epoch 4/50\n",
            "313/313 [==============================] - 1s 4ms/step - loss: 0.6741 - accuracy: 0.5620 - val_loss: 0.6871 - val_accuracy: 0.5287\n",
            "Epoch 5/50\n",
            "313/313 [==============================] - 1s 4ms/step - loss: 0.6676 - accuracy: 0.5805 - val_loss: 0.6826 - val_accuracy: 0.6468\n",
            "Epoch 6/50\n",
            "313/313 [==============================] - 1s 4ms/step - loss: 0.6584 - accuracy: 0.6170 - val_loss: 0.6757 - val_accuracy: 0.6663\n",
            "Epoch 7/50\n",
            "313/313 [==============================] - 1s 4ms/step - loss: 0.6453 - accuracy: 0.6608 - val_loss: 0.6662 - val_accuracy: 0.6755\n",
            "Epoch 8/50\n",
            "313/313 [==============================] - 1s 4ms/step - loss: 0.6277 - accuracy: 0.7090 - val_loss: 0.6539 - val_accuracy: 0.6984\n",
            "Epoch 9/50\n",
            "313/313 [==============================] - 1s 4ms/step - loss: 0.6056 - accuracy: 0.7371 - val_loss: 0.6401 - val_accuracy: 0.6950\n",
            "Epoch 10/50\n",
            "313/313 [==============================] - 1s 4ms/step - loss: 0.5796 - accuracy: 0.7589 - val_loss: 0.6256 - val_accuracy: 0.6881\n",
            "Epoch 11/50\n",
            "313/313 [==============================] - 1s 4ms/step - loss: 0.5510 - accuracy: 0.7782 - val_loss: 0.6112 - val_accuracy: 0.6961\n",
            "Epoch 12/50\n",
            "313/313 [==============================] - 1s 4ms/step - loss: 0.5212 - accuracy: 0.7983 - val_loss: 0.5942 - val_accuracy: 0.7179\n",
            "Epoch 13/50\n",
            "313/313 [==============================] - 1s 4ms/step - loss: 0.4916 - accuracy: 0.8121 - val_loss: 0.5814 - val_accuracy: 0.7144\n",
            "Epoch 14/50\n",
            "313/313 [==============================] - 1s 4ms/step - loss: 0.4633 - accuracy: 0.8260 - val_loss: 0.5663 - val_accuracy: 0.7282\n",
            "Epoch 15/50\n",
            "313/313 [==============================] - 1s 5ms/step - loss: 0.4366 - accuracy: 0.8350 - val_loss: 0.5532 - val_accuracy: 0.7362\n",
            "Epoch 16/50\n",
            "313/313 [==============================] - 2s 5ms/step - loss: 0.4120 - accuracy: 0.8447 - val_loss: 0.5443 - val_accuracy: 0.7362\n",
            "Epoch 17/50\n",
            "313/313 [==============================] - 2s 5ms/step - loss: 0.3894 - accuracy: 0.8529 - val_loss: 0.5344 - val_accuracy: 0.7420\n",
            "Epoch 18/50\n",
            "313/313 [==============================] - 2s 6ms/step - loss: 0.3689 - accuracy: 0.8584 - val_loss: 0.5250 - val_accuracy: 0.7454\n",
            "Epoch 19/50\n",
            "313/313 [==============================] - 2s 6ms/step - loss: 0.3503 - accuracy: 0.8653 - val_loss: 0.5175 - val_accuracy: 0.7454\n",
            "Epoch 20/50\n",
            "313/313 [==============================] - 2s 5ms/step - loss: 0.3333 - accuracy: 0.8703 - val_loss: 0.5130 - val_accuracy: 0.7477\n",
            "Epoch 21/50\n",
            "313/313 [==============================] - 1s 4ms/step - loss: 0.3177 - accuracy: 0.8755 - val_loss: 0.5071 - val_accuracy: 0.7534\n",
            "Epoch 22/50\n",
            "313/313 [==============================] - 1s 4ms/step - loss: 0.3037 - accuracy: 0.8821 - val_loss: 0.5061 - val_accuracy: 0.7546\n",
            "Epoch 23/50\n",
            "313/313 [==============================] - 1s 4ms/step - loss: 0.2907 - accuracy: 0.8860 - val_loss: 0.5032 - val_accuracy: 0.7603\n",
            "Epoch 24/50\n",
            "313/313 [==============================] - 1s 4ms/step - loss: 0.2791 - accuracy: 0.8884 - val_loss: 0.5029 - val_accuracy: 0.7615\n",
            "Epoch 25/50\n",
            "313/313 [==============================] - 1s 4ms/step - loss: 0.2681 - accuracy: 0.8935 - val_loss: 0.5074 - val_accuracy: 0.7592\n",
            "Epoch 26/50\n",
            "313/313 [==============================] - 1s 4ms/step - loss: 0.2581 - accuracy: 0.8947 - val_loss: 0.5073 - val_accuracy: 0.7603\n",
            "Epoch 27/50\n",
            "313/313 [==============================] - 1s 4ms/step - loss: 0.2489 - accuracy: 0.8967 - val_loss: 0.5105 - val_accuracy: 0.7649\n",
            "Epoch 28/50\n",
            "313/313 [==============================] - 1s 4ms/step - loss: 0.2403 - accuracy: 0.8987 - val_loss: 0.5167 - val_accuracy: 0.7626\n",
            "Epoch 29/50\n",
            "313/313 [==============================] - 1s 4ms/step - loss: 0.2323 - accuracy: 0.9018 - val_loss: 0.5201 - val_accuracy: 0.7638\n",
            "Epoch 30/50\n",
            "313/313 [==============================] - 1s 4ms/step - loss: 0.2247 - accuracy: 0.9045 - val_loss: 0.5245 - val_accuracy: 0.7626\n",
            "Epoch 31/50\n",
            "313/313 [==============================] - 1s 4ms/step - loss: 0.2178 - accuracy: 0.9061 - val_loss: 0.5309 - val_accuracy: 0.7603\n",
            "Epoch 32/50\n",
            "313/313 [==============================] - 1s 4ms/step - loss: 0.2112 - accuracy: 0.9096 - val_loss: 0.5360 - val_accuracy: 0.7638\n",
            "Epoch 33/50\n",
            "313/313 [==============================] - 1s 4ms/step - loss: 0.2051 - accuracy: 0.9133 - val_loss: 0.5436 - val_accuracy: 0.7638\n",
            "Epoch 34/50\n",
            "313/313 [==============================] - 1s 4ms/step - loss: 0.1992 - accuracy: 0.9127 - val_loss: 0.5533 - val_accuracy: 0.7638\n",
            "Epoch 35/50\n",
            "313/313 [==============================] - 1s 4ms/step - loss: 0.1940 - accuracy: 0.9167 - val_loss: 0.5547 - val_accuracy: 0.7615\n",
            "Epoch 36/50\n",
            "313/313 [==============================] - 1s 4ms/step - loss: 0.1890 - accuracy: 0.9171 - val_loss: 0.5644 - val_accuracy: 0.7626\n",
            "Epoch 37/50\n",
            "313/313 [==============================] - 1s 4ms/step - loss: 0.1839 - accuracy: 0.9199 - val_loss: 0.5747 - val_accuracy: 0.7638\n",
            "Epoch 38/50\n",
            "313/313 [==============================] - 1s 4ms/step - loss: 0.1794 - accuracy: 0.9216 - val_loss: 0.5819 - val_accuracy: 0.7603\n",
            "Epoch 39/50\n",
            "313/313 [==============================] - 1s 4ms/step - loss: 0.1751 - accuracy: 0.9215 - val_loss: 0.5926 - val_accuracy: 0.7580\n",
            "Epoch 40/50\n",
            "313/313 [==============================] - 1s 4ms/step - loss: 0.1711 - accuracy: 0.9219 - val_loss: 0.6016 - val_accuracy: 0.7569\n",
            "Epoch 41/50\n",
            "313/313 [==============================] - 1s 4ms/step - loss: 0.1671 - accuracy: 0.9236 - val_loss: 0.6099 - val_accuracy: 0.7546\n",
            "Epoch 42/50\n",
            "313/313 [==============================] - 1s 4ms/step - loss: 0.1633 - accuracy: 0.9272 - val_loss: 0.6188 - val_accuracy: 0.7523\n",
            "Epoch 43/50\n",
            "313/313 [==============================] - 1s 4ms/step - loss: 0.1599 - accuracy: 0.9287 - val_loss: 0.6293 - val_accuracy: 0.7523\n",
            "Epoch 44/50\n",
            "313/313 [==============================] - 1s 4ms/step - loss: 0.1566 - accuracy: 0.9277 - val_loss: 0.6398 - val_accuracy: 0.7557\n",
            "Epoch 45/50\n",
            "313/313 [==============================] - 1s 4ms/step - loss: 0.1532 - accuracy: 0.9319 - val_loss: 0.6514 - val_accuracy: 0.7523\n",
            "Epoch 46/50\n",
            "313/313 [==============================] - 1s 4ms/step - loss: 0.1502 - accuracy: 0.9326 - val_loss: 0.6610 - val_accuracy: 0.7534\n",
            "Epoch 47/50\n",
            "313/313 [==============================] - 1s 4ms/step - loss: 0.1473 - accuracy: 0.9334 - val_loss: 0.6718 - val_accuracy: 0.7523\n",
            "Epoch 48/50\n",
            "313/313 [==============================] - 1s 4ms/step - loss: 0.1441 - accuracy: 0.9354 - val_loss: 0.6837 - val_accuracy: 0.7511\n",
            "Epoch 49/50\n",
            "313/313 [==============================] - 1s 4ms/step - loss: 0.1417 - accuracy: 0.9351 - val_loss: 0.6940 - val_accuracy: 0.7500\n",
            "Epoch 50/50\n",
            "313/313 [==============================] - 1s 4ms/step - loss: 0.1391 - accuracy: 0.9346 - val_loss: 0.7058 - val_accuracy: 0.7489\n"
          ],
          "name": "stdout"
        },
        {
          "output_type": "display_data",
          "data": {
            "image/png": "[encoded data removed]",
            "text/plain": [
              "<Figure size 432x288 with 1 Axes>"
            ]
          },
          "metadata": {
            "tags": [],
            "needs_background": "light"
          }
        },
        {
          "output_type": "display_data",
          "data": {
            "image/png": "[encoded data removed]",
            "text/plain": [
              "<Figure size 432x288 with 1 Axes>"
            ]
          },
          "metadata": {
            "tags": [],
            "needs_background": "light"
          }
        },
        {
          "output_type": "stream",
          "text": [
            "The moview was really good\n",
            "[0.93312967]\n",
            "\n",
            "\n",
            "It was a very horrible movie\n",
            "[0.19715147]\n",
            "\n",
            "\n",
            "The story behind the moview was good but the way it was shot was not upto the mark\n",
            "[0.97720784]\n",
            "\n",
            "\n"
          ],
          "name": "stdout"
        }
      ]
    },
    {
      "cell_type": "markdown",
      "metadata": {
        "id": "beBWfOMz0Ksc",
        "colab_type": "text"
      },
      "source": [
        "A GRU model for moview review sentiment analysis"
      ]
    },
    {
      "cell_type": "code",
      "metadata": {
        "id": "o0YOBCLacTpW",
        "colab_type": "code",
        "colab": {
          "base_uri": "https://localhost:8080/",
          "height": 1000
        },
        "outputId": "ddb476f5-43a0-47c0-cca4-8b3f070151be"
      },
      "source": [
        "num_epochs=50\n",
        "gru_model = tf.keras.Sequential([\n",
        "                                 tf.keras.layers.Embedding(vocab_size,embedding_dim,input_length=max_length),\n",
        "                                 tf.keras.layers.Bidirectional(tf.keras.layers.GRU(32)),\n",
        "                                 tf.keras.layers.Dense(1,activation='sigmoid')\n",
        "])\n",
        "\n",
        "learning_rate=0.0001\n",
        "gru_model.compile(loss='binary_crossentropy',\n",
        "                  optimizer=tf.keras.optimizers.Adam(learning_rate),\n",
        "                  metrics=['accuracy'])\n",
        "show_results(gru_model, new_reviews)"
      ],
      "execution_count": 28,
      "outputs": [
        {
          "output_type": "stream",
          "text": [
            "Model: \"sequential_2\"\n",
            "_________________________________________________________________\n",
            "Layer (type)                 Output Shape              Param #   \n",
            "=================================================================\n",
            "embedding_2 (Embedding)      (None, 50, 16)            64000     \n",
            "_________________________________________________________________\n",
            "bidirectional (Bidirectional (None, 64)                9600      \n",
            "_________________________________________________________________\n",
            "dense_2 (Dense)              (None, 1)                 65        \n",
            "=================================================================\n",
            "Total params: 73,665\n",
            "Trainable params: 73,665\n",
            "Non-trainable params: 0\n",
            "_________________________________________________________________\n",
            "Epoch 1/50\n",
            "313/313 [==============================] - 13s 42ms/step - loss: 0.6879 - accuracy: 0.5542 - val_loss: 0.6966 - val_accuracy: 0.5092\n",
            "Epoch 2/50\n",
            "313/313 [==============================] - 12s 40ms/step - loss: 0.6811 - accuracy: 0.5590 - val_loss: 0.7057 - val_accuracy: 0.5092\n",
            "Epoch 3/50\n",
            "313/313 [==============================] - 12s 39ms/step - loss: 0.6593 - accuracy: 0.5881 - val_loss: 0.7408 - val_accuracy: 0.5092\n",
            "Epoch 4/50\n",
            "313/313 [==============================] - 12s 40ms/step - loss: 0.5840 - accuracy: 0.6941 - val_loss: 0.6159 - val_accuracy: 0.5688\n",
            "Epoch 5/50\n",
            "313/313 [==============================] - 13s 40ms/step - loss: 0.4935 - accuracy: 0.7733 - val_loss: 0.6076 - val_accuracy: 0.6078\n",
            "Epoch 6/50\n",
            "313/313 [==============================] - 12s 39ms/step - loss: 0.4286 - accuracy: 0.8096 - val_loss: 0.5901 - val_accuracy: 0.6112\n",
            "Epoch 7/50\n",
            "313/313 [==============================] - 12s 39ms/step - loss: 0.3808 - accuracy: 0.8312 - val_loss: 0.5487 - val_accuracy: 0.7339\n",
            "Epoch 8/50\n",
            "313/313 [==============================] - 12s 38ms/step - loss: 0.3511 - accuracy: 0.8463 - val_loss: 0.5566 - val_accuracy: 0.7099\n",
            "Epoch 9/50\n",
            "313/313 [==============================] - 12s 38ms/step - loss: 0.3259 - accuracy: 0.8541 - val_loss: 0.5664 - val_accuracy: 0.7649\n",
            "Epoch 10/50\n",
            "313/313 [==============================] - 12s 39ms/step - loss: 0.3058 - accuracy: 0.8656 - val_loss: 0.5695 - val_accuracy: 0.6904\n",
            "Epoch 11/50\n",
            "313/313 [==============================] - 12s 38ms/step - loss: 0.2897 - accuracy: 0.8732 - val_loss: 0.5582 - val_accuracy: 0.7294\n",
            "Epoch 12/50\n",
            "313/313 [==============================] - 12s 38ms/step - loss: 0.2742 - accuracy: 0.8790 - val_loss: 0.5614 - val_accuracy: 0.7420\n",
            "Epoch 13/50\n",
            "313/313 [==============================] - 12s 39ms/step - loss: 0.2631 - accuracy: 0.8845 - val_loss: 0.5859 - val_accuracy: 0.7408\n",
            "Epoch 14/50\n",
            "313/313 [==============================] - 12s 38ms/step - loss: 0.2525 - accuracy: 0.8849 - val_loss: 0.6153 - val_accuracy: 0.7534\n",
            "Epoch 15/50\n",
            "313/313 [==============================] - 14s 43ms/step - loss: 0.2433 - accuracy: 0.8900 - val_loss: 0.5920 - val_accuracy: 0.6858\n",
            "Epoch 16/50\n",
            "313/313 [==============================] - 12s 39ms/step - loss: 0.2342 - accuracy: 0.8971 - val_loss: 0.6241 - val_accuracy: 0.7362\n",
            "Epoch 17/50\n",
            "313/313 [==============================] - 12s 39ms/step - loss: 0.2270 - accuracy: 0.8974 - val_loss: 0.6693 - val_accuracy: 0.7454\n",
            "Epoch 18/50\n",
            "313/313 [==============================] - 12s 38ms/step - loss: 0.2200 - accuracy: 0.9011 - val_loss: 0.6246 - val_accuracy: 0.7213\n",
            "Epoch 19/50\n",
            "313/313 [==============================] - 12s 39ms/step - loss: 0.2130 - accuracy: 0.9010 - val_loss: 0.6920 - val_accuracy: 0.7431\n",
            "Epoch 20/50\n",
            "313/313 [==============================] - 12s 38ms/step - loss: 0.2091 - accuracy: 0.9033 - val_loss: 0.6405 - val_accuracy: 0.7167\n",
            "Epoch 21/50\n",
            "313/313 [==============================] - 12s 38ms/step - loss: 0.2029 - accuracy: 0.9079 - val_loss: 0.7537 - val_accuracy: 0.7408\n",
            "Epoch 22/50\n",
            "313/313 [==============================] - 12s 38ms/step - loss: 0.1996 - accuracy: 0.9056 - val_loss: 0.6627 - val_accuracy: 0.7110\n",
            "Epoch 23/50\n",
            "313/313 [==============================] - 12s 39ms/step - loss: 0.1967 - accuracy: 0.9062 - val_loss: 0.6666 - val_accuracy: 0.7099\n",
            "Epoch 24/50\n",
            "313/313 [==============================] - 12s 40ms/step - loss: 0.1902 - accuracy: 0.9134 - val_loss: 0.7085 - val_accuracy: 0.7190\n",
            "Epoch 25/50\n",
            "313/313 [==============================] - 13s 42ms/step - loss: 0.1870 - accuracy: 0.9156 - val_loss: 0.7254 - val_accuracy: 0.7236\n",
            "Epoch 26/50\n",
            "313/313 [==============================] - 13s 41ms/step - loss: 0.1841 - accuracy: 0.9175 - val_loss: 0.7284 - val_accuracy: 0.7271\n",
            "Epoch 27/50\n",
            "313/313 [==============================] - 12s 38ms/step - loss: 0.1819 - accuracy: 0.9179 - val_loss: 0.7937 - val_accuracy: 0.7328\n",
            "Epoch 28/50\n",
            "313/313 [==============================] - 12s 39ms/step - loss: 0.1774 - accuracy: 0.9192 - val_loss: 0.7837 - val_accuracy: 0.7271\n",
            "Epoch 29/50\n",
            "313/313 [==============================] - 12s 38ms/step - loss: 0.1790 - accuracy: 0.9176 - val_loss: 0.8043 - val_accuracy: 0.7282\n",
            "Epoch 30/50\n",
            "313/313 [==============================] - 12s 39ms/step - loss: 0.1727 - accuracy: 0.9193 - val_loss: 0.7885 - val_accuracy: 0.7248\n",
            "Epoch 31/50\n",
            "313/313 [==============================] - 12s 38ms/step - loss: 0.1722 - accuracy: 0.9201 - val_loss: 0.7986 - val_accuracy: 0.7236\n",
            "Epoch 32/50\n",
            "313/313 [==============================] - 12s 39ms/step - loss: 0.1690 - accuracy: 0.9203 - val_loss: 0.7830 - val_accuracy: 0.7248\n",
            "Epoch 33/50\n",
            "313/313 [==============================] - 12s 39ms/step - loss: 0.1660 - accuracy: 0.9242 - val_loss: 0.7330 - val_accuracy: 0.6835\n",
            "Epoch 34/50\n",
            "313/313 [==============================] - 12s 39ms/step - loss: 0.1641 - accuracy: 0.9231 - val_loss: 0.8420 - val_accuracy: 0.7179\n",
            "Epoch 35/50\n",
            "313/313 [==============================] - 12s 38ms/step - loss: 0.1629 - accuracy: 0.9226 - val_loss: 0.8419 - val_accuracy: 0.7190\n",
            "Epoch 36/50\n",
            "313/313 [==============================] - 12s 38ms/step - loss: 0.1630 - accuracy: 0.9211 - val_loss: 0.8817 - val_accuracy: 0.7144\n",
            "Epoch 37/50\n",
            "313/313 [==============================] - 12s 39ms/step - loss: 0.1595 - accuracy: 0.9241 - val_loss: 0.8481 - val_accuracy: 0.7133\n",
            "Epoch 38/50\n",
            "313/313 [==============================] - 12s 38ms/step - loss: 0.1584 - accuracy: 0.9259 - val_loss: 0.9437 - val_accuracy: 0.7167\n",
            "Epoch 39/50\n",
            "313/313 [==============================] - 12s 39ms/step - loss: 0.1564 - accuracy: 0.9233 - val_loss: 0.9025 - val_accuracy: 0.7144\n",
            "Epoch 40/50\n",
            "313/313 [==============================] - 13s 42ms/step - loss: 0.1547 - accuracy: 0.9276 - val_loss: 1.0104 - val_accuracy: 0.7225\n",
            "Epoch 41/50\n",
            "313/313 [==============================] - 12s 39ms/step - loss: 0.1542 - accuracy: 0.9276 - val_loss: 0.9439 - val_accuracy: 0.7099\n",
            "Epoch 42/50\n",
            "313/313 [==============================] - 12s 38ms/step - loss: 0.1521 - accuracy: 0.9280 - val_loss: 0.8404 - val_accuracy: 0.7064\n",
            "Epoch 43/50\n",
            "313/313 [==============================] - 12s 38ms/step - loss: 0.1505 - accuracy: 0.9287 - val_loss: 0.9033 - val_accuracy: 0.7064\n",
            "Epoch 44/50\n",
            "313/313 [==============================] - 12s 39ms/step - loss: 0.1519 - accuracy: 0.9270 - val_loss: 0.8849 - val_accuracy: 0.7099\n",
            "Epoch 45/50\n",
            "313/313 [==============================] - 12s 38ms/step - loss: 0.1477 - accuracy: 0.9314 - val_loss: 0.8106 - val_accuracy: 0.6984\n",
            "Epoch 46/50\n",
            "313/313 [==============================] - 12s 38ms/step - loss: 0.1479 - accuracy: 0.9306 - val_loss: 0.8828 - val_accuracy: 0.7099\n",
            "Epoch 47/50\n",
            "313/313 [==============================] - 12s 40ms/step - loss: 0.1486 - accuracy: 0.9283 - val_loss: 0.8934 - val_accuracy: 0.7122\n",
            "Epoch 48/50\n",
            "313/313 [==============================] - 12s 39ms/step - loss: 0.1456 - accuracy: 0.9309 - val_loss: 0.9922 - val_accuracy: 0.7041\n",
            "Epoch 49/50\n",
            "313/313 [==============================] - 12s 39ms/step - loss: 0.1441 - accuracy: 0.9300 - val_loss: 1.0281 - val_accuracy: 0.7018\n",
            "Epoch 50/50\n",
            "313/313 [==============================] - 12s 39ms/step - loss: 0.1426 - accuracy: 0.9306 - val_loss: 1.0466 - val_accuracy: 0.7041\n"
          ],
          "name": "stdout"
        },
        {
          "output_type": "display_data",
          "data": {
            "image/png": "[encoded data removed]",
            "text/plain": [
              "<Figure size 432x288 with 1 Axes>"
            ]
          },
          "metadata": {
            "tags": [],
            "needs_background": "light"
          }
        },
        {
          "output_type": "display_data",
          "data": {
            "image/png": "[encoded data removed]",
            "text/plain": [
              "<Figure size 432x288 with 1 Axes>"
            ]
          },
          "metadata": {
            "tags": [],
            "needs_background": "light"
          }
        },
        {
          "output_type": "stream",
          "text": [
            "The moview was really good\n",
            "[0.9631186]\n",
            "\n",
            "\n",
            "It was a very horrible movie\n",
            "[0.03723393]\n",
            "\n",
            "\n",
            "The story behind the moview was good but the way it was shot was not upto the mark\n",
            "[0.99999404]\n",
            "\n",
            "\n"
          ],
          "name": "stdout"
        }
      ]
    },
    {
      "cell_type": "markdown",
      "metadata": {
        "id": "RCx7M7qz0qgm",
        "colab_type": "text"
      },
      "source": [
        "A bidirectional LSTM for movie review sentiment analysis"
      ]
    },
    {
      "cell_type": "code",
      "metadata": {
        "id": "aMZXQRh5g6ZZ",
        "colab_type": "code",
        "colab": {
          "base_uri": "https://localhost:8080/",
          "height": 1000
        },
        "outputId": "ffed9f8e-be82-44e5-d7e5-22e6f6871b98"
      },
      "source": [
        "num_epochs=50\n",
        "bidi_lstm_model=tf.keras.Sequential([\n",
        "    tf.keras.layers.Embedding(vocab_size, embedding_dim, input_length=max_length),\n",
        "    tf.keras.layers.Bidirectional(tf.keras.layers.LSTM(embedding_dim)), \n",
        "    tf.keras.layers.Dense(1, activation='sigmoid')\n",
        "])\n",
        "\n",
        "learning_rate = 0.0001\n",
        "bidi_lstm_model.compile(loss='binary_crossentropy',\n",
        "                        optimizer=tf.keras.optimizers.Adam(learning_rate),\n",
        "                        metrics=['accuracy'])\n",
        "show_results(bidi_lstm_model, new_reviews)"
      ],
      "execution_count": 29,
      "outputs": [
        {
          "output_type": "stream",
          "text": [
            "Model: \"sequential_3\"\n",
            "_________________________________________________________________\n",
            "Layer (type)                 Output Shape              Param #   \n",
            "=================================================================\n",
            "embedding_3 (Embedding)      (None, 50, 16)            64000     \n",
            "_________________________________________________________________\n",
            "bidirectional_1 (Bidirection (None, 32)                4224      \n",
            "_________________________________________________________________\n",
            "dense_3 (Dense)              (None, 1)                 33        \n",
            "=================================================================\n",
            "Total params: 68,257\n",
            "Trainable params: 68,257\n",
            "Non-trainable params: 0\n",
            "_________________________________________________________________\n",
            "Epoch 1/50\n",
            "313/313 [==============================] - 10s 33ms/step - loss: 0.6878 - accuracy: 0.5590 - val_loss: 0.6946 - val_accuracy: 0.5092\n",
            "Epoch 2/50\n",
            "313/313 [==============================] - 10s 31ms/step - loss: 0.6824 - accuracy: 0.5590 - val_loss: 0.7013 - val_accuracy: 0.5092\n",
            "Epoch 3/50\n",
            "313/313 [==============================] - 9s 30ms/step - loss: 0.6735 - accuracy: 0.5608 - val_loss: 0.7111 - val_accuracy: 0.5092\n",
            "Epoch 4/50\n",
            "313/313 [==============================] - 9s 30ms/step - loss: 0.6518 - accuracy: 0.6030 - val_loss: 0.7138 - val_accuracy: 0.5092\n",
            "Epoch 5/50\n",
            "313/313 [==============================] - 10s 31ms/step - loss: 0.5947 - accuracy: 0.6801 - val_loss: 0.6296 - val_accuracy: 0.5287\n",
            "Epoch 6/50\n",
            "313/313 [==============================] - 9s 30ms/step - loss: 0.5177 - accuracy: 0.7613 - val_loss: 0.6361 - val_accuracy: 0.5998\n",
            "Epoch 7/50\n",
            "313/313 [==============================] - 9s 30ms/step - loss: 0.4707 - accuracy: 0.7981 - val_loss: 0.6507 - val_accuracy: 0.5940\n",
            "Epoch 8/50\n",
            "313/313 [==============================] - 10s 30ms/step - loss: 0.4376 - accuracy: 0.8141 - val_loss: 0.6533 - val_accuracy: 0.6216\n",
            "Epoch 9/50\n",
            "313/313 [==============================] - 9s 30ms/step - loss: 0.4090 - accuracy: 0.8312 - val_loss: 0.6443 - val_accuracy: 0.6606\n",
            "Epoch 10/50\n",
            "313/313 [==============================] - 9s 30ms/step - loss: 0.3874 - accuracy: 0.8398 - val_loss: 0.6702 - val_accuracy: 0.6514\n",
            "Epoch 11/50\n",
            "313/313 [==============================] - 9s 30ms/step - loss: 0.3668 - accuracy: 0.8488 - val_loss: 0.6893 - val_accuracy: 0.6514\n",
            "Epoch 12/50\n",
            "313/313 [==============================] - 10s 32ms/step - loss: 0.3514 - accuracy: 0.8530 - val_loss: 0.6527 - val_accuracy: 0.6732\n",
            "Epoch 13/50\n",
            "313/313 [==============================] - 10s 32ms/step - loss: 0.3350 - accuracy: 0.8613 - val_loss: 0.6950 - val_accuracy: 0.6606\n",
            "Epoch 14/50\n",
            "313/313 [==============================] - 10s 31ms/step - loss: 0.3222 - accuracy: 0.8637 - val_loss: 0.6828 - val_accuracy: 0.6812\n",
            "Epoch 15/50\n",
            "313/313 [==============================] - 10s 31ms/step - loss: 0.3098 - accuracy: 0.8721 - val_loss: 0.6924 - val_accuracy: 0.6411\n",
            "Epoch 16/50\n",
            "313/313 [==============================] - 10s 31ms/step - loss: 0.2977 - accuracy: 0.8731 - val_loss: 0.6816 - val_accuracy: 0.6651\n",
            "Epoch 17/50\n",
            "313/313 [==============================] - 9s 30ms/step - loss: 0.2880 - accuracy: 0.8788 - val_loss: 0.6661 - val_accuracy: 0.6915\n",
            "Epoch 18/50\n",
            "313/313 [==============================] - 10s 31ms/step - loss: 0.2794 - accuracy: 0.8854 - val_loss: 0.6684 - val_accuracy: 0.6823\n",
            "Epoch 19/50\n",
            "313/313 [==============================] - 10s 31ms/step - loss: 0.2702 - accuracy: 0.8857 - val_loss: 0.6881 - val_accuracy: 0.7064\n",
            "Epoch 20/50\n",
            "313/313 [==============================] - 10s 31ms/step - loss: 0.2617 - accuracy: 0.8903 - val_loss: 0.6619 - val_accuracy: 0.6823\n",
            "Epoch 21/50\n",
            "313/313 [==============================] - 10s 31ms/step - loss: 0.2531 - accuracy: 0.8920 - val_loss: 0.6748 - val_accuracy: 0.6904\n",
            "Epoch 22/50\n",
            "313/313 [==============================] - 10s 31ms/step - loss: 0.2472 - accuracy: 0.8933 - val_loss: 0.6724 - val_accuracy: 0.6709\n",
            "Epoch 23/50\n",
            "313/313 [==============================] - 10s 31ms/step - loss: 0.2393 - accuracy: 0.8964 - val_loss: 0.7190 - val_accuracy: 0.6766\n",
            "Epoch 24/50\n",
            "313/313 [==============================] - 10s 30ms/step - loss: 0.2327 - accuracy: 0.9008 - val_loss: 0.7174 - val_accuracy: 0.6927\n",
            "Epoch 25/50\n",
            "313/313 [==============================] - 10s 31ms/step - loss: 0.2280 - accuracy: 0.9025 - val_loss: 0.7190 - val_accuracy: 0.6927\n",
            "Epoch 26/50\n",
            "313/313 [==============================] - 9s 30ms/step - loss: 0.2225 - accuracy: 0.9037 - val_loss: 0.7353 - val_accuracy: 0.6835\n",
            "Epoch 27/50\n",
            "313/313 [==============================] - 10s 33ms/step - loss: 0.2169 - accuracy: 0.9048 - val_loss: 0.7520 - val_accuracy: 0.6720\n",
            "Epoch 28/50\n",
            "313/313 [==============================] - 10s 31ms/step - loss: 0.2200 - accuracy: 0.9039 - val_loss: 0.7682 - val_accuracy: 0.6686\n",
            "Epoch 29/50\n",
            "313/313 [==============================] - 9s 30ms/step - loss: 0.2094 - accuracy: 0.9070 - val_loss: 0.7935 - val_accuracy: 0.6766\n",
            "Epoch 30/50\n",
            "313/313 [==============================] - 10s 31ms/step - loss: 0.2067 - accuracy: 0.9098 - val_loss: 0.8039 - val_accuracy: 0.6560\n",
            "Epoch 31/50\n",
            "313/313 [==============================] - 9s 30ms/step - loss: 0.2013 - accuracy: 0.9126 - val_loss: 0.8131 - val_accuracy: 0.6628\n",
            "Epoch 32/50\n",
            "313/313 [==============================] - 9s 30ms/step - loss: 0.1980 - accuracy: 0.9125 - val_loss: 0.8196 - val_accuracy: 0.6571\n",
            "Epoch 33/50\n",
            "313/313 [==============================] - 10s 32ms/step - loss: 0.1930 - accuracy: 0.9142 - val_loss: 0.8414 - val_accuracy: 0.6640\n",
            "Epoch 34/50\n",
            "313/313 [==============================] - 10s 32ms/step - loss: 0.1904 - accuracy: 0.9185 - val_loss: 0.8378 - val_accuracy: 0.6686\n",
            "Epoch 35/50\n",
            "313/313 [==============================] - 10s 31ms/step - loss: 0.1881 - accuracy: 0.9184 - val_loss: 0.8570 - val_accuracy: 0.6720\n",
            "Epoch 36/50\n",
            "313/313 [==============================] - 10s 31ms/step - loss: 0.1869 - accuracy: 0.9187 - val_loss: 0.8643 - val_accuracy: 0.6663\n",
            "Epoch 37/50\n",
            "313/313 [==============================] - 10s 32ms/step - loss: 0.1804 - accuracy: 0.9205 - val_loss: 0.8586 - val_accuracy: 0.6709\n",
            "Epoch 38/50\n",
            "313/313 [==============================] - 10s 31ms/step - loss: 0.1787 - accuracy: 0.9188 - val_loss: 0.8835 - val_accuracy: 0.6537\n",
            "Epoch 39/50\n",
            "313/313 [==============================] - 10s 31ms/step - loss: 0.1799 - accuracy: 0.9206 - val_loss: 0.9169 - val_accuracy: 0.6433\n",
            "Epoch 40/50\n",
            "313/313 [==============================] - 10s 31ms/step - loss: 0.1752 - accuracy: 0.9211 - val_loss: 0.9076 - val_accuracy: 0.6606\n",
            "Epoch 41/50\n",
            "313/313 [==============================] - 10s 30ms/step - loss: 0.1700 - accuracy: 0.9244 - val_loss: 0.9095 - val_accuracy: 0.6560\n",
            "Epoch 42/50\n",
            "313/313 [==============================] - 10s 31ms/step - loss: 0.1733 - accuracy: 0.9225 - val_loss: 0.9348 - val_accuracy: 0.6388\n",
            "Epoch 43/50\n",
            "313/313 [==============================] - 10s 30ms/step - loss: 0.1667 - accuracy: 0.9245 - val_loss: 0.9319 - val_accuracy: 0.6422\n",
            "Epoch 44/50\n",
            "313/313 [==============================] - 11s 34ms/step - loss: 0.1675 - accuracy: 0.9237 - val_loss: 0.9119 - val_accuracy: 0.6525\n",
            "Epoch 45/50\n",
            "313/313 [==============================] - 10s 31ms/step - loss: 0.1635 - accuracy: 0.9252 - val_loss: 0.9530 - val_accuracy: 0.6491\n",
            "Epoch 46/50\n",
            "313/313 [==============================] - 10s 31ms/step - loss: 0.1605 - accuracy: 0.9262 - val_loss: 0.9623 - val_accuracy: 0.6445\n",
            "Epoch 47/50\n",
            "313/313 [==============================] - 9s 30ms/step - loss: 0.1582 - accuracy: 0.9270 - val_loss: 0.9194 - val_accuracy: 0.6399\n",
            "Epoch 48/50\n",
            "313/313 [==============================] - 9s 30ms/step - loss: 0.1571 - accuracy: 0.9268 - val_loss: 0.9978 - val_accuracy: 0.6353\n",
            "Epoch 49/50\n",
            "313/313 [==============================] - 10s 31ms/step - loss: 0.1547 - accuracy: 0.9290 - val_loss: 0.9668 - val_accuracy: 0.6399\n",
            "Epoch 50/50\n",
            "313/313 [==============================] - 10s 31ms/step - loss: 0.1530 - accuracy: 0.9293 - val_loss: 1.0245 - val_accuracy: 0.6399\n"
          ],
          "name": "stdout"
        },
        {
          "output_type": "display_data",
          "data": {
            "image/png": "[encoded data removed]",
            "text/plain": [
              "<Figure size 432x288 with 1 Axes>"
            ]
          },
          "metadata": {
            "tags": [],
            "needs_background": "light"
          }
        },
        {
          "output_type": "display_data",
          "data": {
            "image/png": "[encoded data removed]",
            "text/plain": [
              "<Figure size 432x288 with 1 Axes>"
            ]
          },
          "metadata": {
            "tags": [],
            "needs_background": "light"
          }
        },
        {
          "output_type": "stream",
          "text": [
            "The moview was really good\n",
            "[0.951442]\n",
            "\n",
            "\n",
            "It was a very horrible movie\n",
            "[0.01589546]\n",
            "\n",
            "\n",
            "The story behind the moview was good but the way it was shot was not upto the mark\n",
            "[0.99725276]\n",
            "\n",
            "\n"
          ],
          "name": "stdout"
        }
      ]
    },
    {
      "cell_type": "markdown",
      "metadata": {
        "id": "phFSHL6z0zTj",
        "colab_type": "text"
      },
      "source": [
        "A Bidirectional LSTM Model for the same analysis"
      ]
    },
    {
      "cell_type": "code",
      "metadata": {
        "id": "eStXc5G8hk1y",
        "colab_type": "code",
        "colab": {
          "base_uri": "https://localhost:8080/",
          "height": 1000
        },
        "outputId": "6ee02dd9-a6f3-41b5-ceb8-f2dfc57fa687"
      },
      "source": [
        "num_epochs = 50\n",
        "\n",
        "multiple_bidi_lstm_model = tf.keras.Sequential([\n",
        "    tf.keras.layers.Embedding(vocab_size, embedding_dim, input_length=max_length),\n",
        "    tf.keras.layers.Bidirectional(tf.keras.layers.LSTM(embedding_dim, \n",
        "                                                       return_sequences=True)),\n",
        "    tf.keras.layers.Bidirectional(tf.keras.layers.LSTM(embedding_dim)),\n",
        "    tf.keras.layers.Dense(1, activation='sigmoid')\n",
        "])\n",
        "\n",
        "learning_rate = 0.0001\n",
        "multiple_bidi_lstm_model.compile(loss='binary_crossentropy',\n",
        "                                 optimizer=tf.keras.optimizers.Adam(learning_rate),\n",
        "                                 metrics=['accuracy'])\n",
        "show_results(multiple_bidi_lstm_model, new_reviews)"
      ],
      "execution_count": 30,
      "outputs": [
        {
          "output_type": "stream",
          "text": [
            "Model: \"sequential_4\"\n",
            "_________________________________________________________________\n",
            "Layer (type)                 Output Shape              Param #   \n",
            "=================================================================\n",
            "embedding_4 (Embedding)      (None, 50, 16)            64000     \n",
            "_________________________________________________________________\n",
            "bidirectional_2 (Bidirection (None, 50, 32)            4224      \n",
            "_________________________________________________________________\n",
            "bidirectional_3 (Bidirection (None, 32)                6272      \n",
            "_________________________________________________________________\n",
            "dense_4 (Dense)              (None, 1)                 33        \n",
            "=================================================================\n",
            "Total params: 74,529\n",
            "Trainable params: 74,529\n",
            "Non-trainable params: 0\n",
            "_________________________________________________________________\n",
            "Epoch 1/50\n",
            "313/313 [==============================] - 20s 63ms/step - loss: 0.6882 - accuracy: 0.5533 - val_loss: 0.6965 - val_accuracy: 0.5092\n",
            "Epoch 2/50\n",
            "313/313 [==============================] - 18s 58ms/step - loss: 0.6831 - accuracy: 0.5590 - val_loss: 0.7000 - val_accuracy: 0.5092\n",
            "Epoch 3/50\n",
            "313/313 [==============================] - 18s 58ms/step - loss: 0.6509 - accuracy: 0.5945 - val_loss: 0.6969 - val_accuracy: 0.4931\n",
            "Epoch 4/50\n",
            "313/313 [==============================] - 19s 62ms/step - loss: 0.4677 - accuracy: 0.7785 - val_loss: 0.7977 - val_accuracy: 0.4989\n",
            "Epoch 5/50\n",
            "313/313 [==============================] - 18s 59ms/step - loss: 0.3793 - accuracy: 0.8285 - val_loss: 0.9555 - val_accuracy: 0.4943\n",
            "Epoch 6/50\n",
            "313/313 [==============================] - 19s 59ms/step - loss: 0.3330 - accuracy: 0.8520 - val_loss: 0.9882 - val_accuracy: 0.4977\n",
            "Epoch 7/50\n",
            "313/313 [==============================] - 19s 60ms/step - loss: 0.3065 - accuracy: 0.8623 - val_loss: 1.0497 - val_accuracy: 0.4966\n",
            "Epoch 8/50\n",
            "313/313 [==============================] - 19s 60ms/step - loss: 0.2803 - accuracy: 0.8745 - val_loss: 1.1754 - val_accuracy: 0.4966\n",
            "Epoch 9/50\n",
            "313/313 [==============================] - 19s 60ms/step - loss: 0.2630 - accuracy: 0.8840 - val_loss: 1.2067 - val_accuracy: 0.4954\n",
            "Epoch 10/50\n",
            "313/313 [==============================] - 19s 59ms/step - loss: 0.2462 - accuracy: 0.8942 - val_loss: 1.1749 - val_accuracy: 0.4977\n",
            "Epoch 11/50\n",
            "313/313 [==============================] - 18s 59ms/step - loss: 0.2364 - accuracy: 0.8977 - val_loss: 1.0279 - val_accuracy: 0.5057\n",
            "Epoch 12/50\n",
            "313/313 [==============================] - 19s 60ms/step - loss: 0.2260 - accuracy: 0.9007 - val_loss: 1.1504 - val_accuracy: 0.5000\n",
            "Epoch 13/50\n",
            "313/313 [==============================] - 19s 62ms/step - loss: 0.2172 - accuracy: 0.9033 - val_loss: 1.3420 - val_accuracy: 0.4954\n",
            "Epoch 14/50\n",
            "313/313 [==============================] - 19s 59ms/step - loss: 0.2114 - accuracy: 0.9058 - val_loss: 1.2916 - val_accuracy: 0.4966\n",
            "Epoch 15/50\n",
            "313/313 [==============================] - 18s 59ms/step - loss: 0.2012 - accuracy: 0.9114 - val_loss: 1.2400 - val_accuracy: 0.4977\n",
            "Epoch 16/50\n",
            "313/313 [==============================] - 18s 59ms/step - loss: 0.1977 - accuracy: 0.9121 - val_loss: 1.3047 - val_accuracy: 0.4966\n",
            "Epoch 17/50\n",
            "313/313 [==============================] - 18s 59ms/step - loss: 0.1920 - accuracy: 0.9122 - val_loss: 1.3158 - val_accuracy: 0.4966\n",
            "Epoch 18/50\n",
            "313/313 [==============================] - 19s 60ms/step - loss: 0.1900 - accuracy: 0.9147 - val_loss: 1.3556 - val_accuracy: 0.4966\n",
            "Epoch 19/50\n",
            "313/313 [==============================] - 18s 58ms/step - loss: 0.1859 - accuracy: 0.9141 - val_loss: 1.4320 - val_accuracy: 0.4954\n",
            "Epoch 20/50\n",
            "313/313 [==============================] - 19s 61ms/step - loss: 0.1818 - accuracy: 0.9173 - val_loss: 1.4520 - val_accuracy: 0.4931\n",
            "Epoch 21/50\n",
            "313/313 [==============================] - 20s 63ms/step - loss: 0.1795 - accuracy: 0.9197 - val_loss: 1.5012 - val_accuracy: 0.4920\n",
            "Epoch 22/50\n",
            "313/313 [==============================] - 19s 59ms/step - loss: 0.1793 - accuracy: 0.9156 - val_loss: 1.5396 - val_accuracy: 0.4920\n",
            "Epoch 23/50\n",
            "313/313 [==============================] - 19s 61ms/step - loss: 0.1774 - accuracy: 0.9200 - val_loss: 1.4284 - val_accuracy: 0.4943\n",
            "Epoch 24/50\n",
            "313/313 [==============================] - 19s 60ms/step - loss: 0.1747 - accuracy: 0.9202 - val_loss: 1.5002 - val_accuracy: 0.4931\n",
            "Epoch 25/50\n",
            "313/313 [==============================] - 19s 59ms/step - loss: 0.1742 - accuracy: 0.9180 - val_loss: 1.4308 - val_accuracy: 0.4931\n",
            "Epoch 26/50\n",
            "313/313 [==============================] - 19s 60ms/step - loss: 0.1678 - accuracy: 0.9197 - val_loss: 1.4709 - val_accuracy: 0.4943\n",
            "Epoch 27/50\n",
            "313/313 [==============================] - 18s 59ms/step - loss: 0.1685 - accuracy: 0.9206 - val_loss: 1.4545 - val_accuracy: 0.4920\n",
            "Epoch 28/50\n",
            "313/313 [==============================] - 19s 60ms/step - loss: 0.1643 - accuracy: 0.9211 - val_loss: 1.3967 - val_accuracy: 0.4943\n",
            "Epoch 29/50\n",
            "313/313 [==============================] - 20s 63ms/step - loss: 0.1645 - accuracy: 0.9249 - val_loss: 1.4889 - val_accuracy: 0.4943\n",
            "Epoch 30/50\n",
            "313/313 [==============================] - 18s 58ms/step - loss: 0.1638 - accuracy: 0.9215 - val_loss: 1.4376 - val_accuracy: 0.4943\n",
            "Epoch 31/50\n",
            "313/313 [==============================] - 18s 59ms/step - loss: 0.1639 - accuracy: 0.9224 - val_loss: 1.4550 - val_accuracy: 0.4931\n",
            "Epoch 32/50\n",
            "313/313 [==============================] - 18s 59ms/step - loss: 0.1629 - accuracy: 0.9239 - val_loss: 1.3643 - val_accuracy: 0.4954\n",
            "Epoch 33/50\n",
            "313/313 [==============================] - 18s 58ms/step - loss: 0.1596 - accuracy: 0.9242 - val_loss: 1.4441 - val_accuracy: 0.4954\n",
            "Epoch 34/50\n",
            "313/313 [==============================] - 18s 59ms/step - loss: 0.1574 - accuracy: 0.9247 - val_loss: 1.4567 - val_accuracy: 0.4954\n",
            "Epoch 35/50\n",
            "313/313 [==============================] - 18s 59ms/step - loss: 0.1599 - accuracy: 0.9216 - val_loss: 1.4442 - val_accuracy: 0.4954\n",
            "Epoch 36/50\n",
            "313/313 [==============================] - 19s 59ms/step - loss: 0.1553 - accuracy: 0.9251 - val_loss: 1.4261 - val_accuracy: 0.4954\n",
            "Epoch 37/50\n",
            "313/313 [==============================] - 21s 66ms/step - loss: 0.1577 - accuracy: 0.9258 - val_loss: 1.2374 - val_accuracy: 0.4977\n",
            "Epoch 38/50\n",
            "313/313 [==============================] - 19s 61ms/step - loss: 0.1576 - accuracy: 0.9254 - val_loss: 1.4696 - val_accuracy: 0.4954\n",
            "Epoch 39/50\n",
            "313/313 [==============================] - 19s 60ms/step - loss: 0.1529 - accuracy: 0.9215 - val_loss: 1.4898 - val_accuracy: 0.4954\n",
            "Epoch 40/50\n",
            "313/313 [==============================] - 19s 60ms/step - loss: 0.1578 - accuracy: 0.9248 - val_loss: 1.2885 - val_accuracy: 0.4989\n",
            "Epoch 41/50\n",
            "313/313 [==============================] - 19s 59ms/step - loss: 0.1524 - accuracy: 0.9265 - val_loss: 1.4862 - val_accuracy: 0.4954\n",
            "Epoch 42/50\n",
            "313/313 [==============================] - 18s 58ms/step - loss: 0.1527 - accuracy: 0.9250 - val_loss: 1.4652 - val_accuracy: 0.4954\n",
            "Epoch 43/50\n",
            "313/313 [==============================] - 18s 58ms/step - loss: 0.1508 - accuracy: 0.9290 - val_loss: 1.4390 - val_accuracy: 0.4966\n",
            "Epoch 44/50\n",
            "313/313 [==============================] - 18s 58ms/step - loss: 0.1566 - accuracy: 0.9250 - val_loss: 1.3035 - val_accuracy: 0.4989\n",
            "Epoch 45/50\n",
            "313/313 [==============================] - 19s 62ms/step - loss: 0.1525 - accuracy: 0.9263 - val_loss: 1.3124 - val_accuracy: 0.4966\n",
            "Epoch 46/50\n",
            "313/313 [==============================] - 18s 58ms/step - loss: 0.1495 - accuracy: 0.9279 - val_loss: 1.4868 - val_accuracy: 0.4966\n",
            "Epoch 47/50\n",
            "313/313 [==============================] - 18s 58ms/step - loss: 0.1483 - accuracy: 0.9275 - val_loss: 1.5108 - val_accuracy: 0.4966\n",
            "Epoch 48/50\n",
            "313/313 [==============================] - 18s 58ms/step - loss: 0.1512 - accuracy: 0.9270 - val_loss: 1.3035 - val_accuracy: 0.4966\n",
            "Epoch 49/50\n",
            "313/313 [==============================] - 18s 59ms/step - loss: 0.1505 - accuracy: 0.9254 - val_loss: 1.2934 - val_accuracy: 0.4966\n",
            "Epoch 50/50\n",
            "313/313 [==============================] - 19s 59ms/step - loss: 0.1490 - accuracy: 0.9257 - val_loss: 1.6234 - val_accuracy: 0.4920\n"
          ],
          "name": "stdout"
        },
        {
          "output_type": "display_data",
          "data": {
            "image/png": "[encoded data removed]",
            "text/plain": [
              "<Figure size 432x288 with 1 Axes>"
            ]
          },
          "metadata": {
            "tags": [],
            "needs_background": "light"
          }
        },
        {
          "output_type": "display_data",
          "data": {
            "image/png": "[encoded data removed]",
            "text/plain": [
              "<Figure size 432x288 with 1 Axes>"
            ]
          },
          "metadata": {
            "tags": [],
            "needs_background": "light"
          }
        },
        {
          "output_type": "stream",
          "text": [
            "The moview was really good\n",
            "[0.98660916]\n",
            "\n",
            "\n",
            "It was a very horrible movie\n",
            "[0.02429139]\n",
            "\n",
            "\n",
            "The story behind the moview was good but the way it was shot was not upto the mark\n",
            "[0.99525094]\n",
            "\n",
            "\n"
          ],
          "name": "stdout"
        }
      ]
    },
    {
      "cell_type": "code",
      "metadata": {
        "id": "y8_vxdw0h_Hp",
        "colab_type": "code",
        "colab": {}
      },
      "source": [
        "review1 = \"\"\"I loved this movie\"\"\"\n",
        "\n",
        "review2 = \"\"\"that was the worst movie I've ever seen\"\"\"\n",
        "\n",
        "review3 = \"\"\"too much violence even for a Bond film\"\"\"\n",
        "\n",
        "review4 = \"\"\"a captivating recounting of a cherished myth\"\"\"\n",
        "\n",
        "review5 = \"\"\"I saw this movie yesterday and I was feeling low to start with,\n",
        " but it was such a wonderful movie that it lifted my spirits and brightened \n",
        " my day, you can\\'t go wrong with a movie with Whoopi Goldberg in it.\"\"\"\n",
        "\n",
        "review6 = \"\"\"I don\\'t understand why it received an oscar recommendation\n",
        " for best movie, it was long and boring\"\"\"\n",
        "\n",
        "review7 = \"\"\"the scenery was magnificent, the CGI of the dogs was so realistic I\n",
        " thought they were played by real dogs even though they talked!\"\"\"\n",
        "\n",
        "review8 = \"\"\"The ending was so sad and yet so uplifting at the same time. \n",
        " I'm looking for an excuse to see it again\"\"\"\n",
        "\n",
        "review9 = \"\"\"I had expected so much more from a movie made by the director \n",
        " who made my most favorite movie ever, I was very disappointed in the tedious \n",
        " story\"\"\"\n",
        "\n",
        "review10 = \"I wish I could watch this movie every day for the rest of my life\"\n",
        "\n",
        "more_reviews = [review1, review2, review3, review4, review5, review6, review7, \n",
        "               review8, review9, review10]"
      ],
      "execution_count": 0,
      "outputs": []
    },
    {
      "cell_type": "code",
      "metadata": {
        "id": "-m2ZVCuaiF8C",
        "colab_type": "code",
        "colab": {
          "base_uri": "https://localhost:8080/",
          "height": 905
        },
        "outputId": "da347494-fb8d-49b3-b25e-89790f179447"
      },
      "source": [
        "print(\"============================\\n\",\"Embeddings only:\\n\", \"============================\")\n",
        "predict_review(model, more_reviews)"
      ],
      "execution_count": 32,
      "outputs": [
        {
          "output_type": "stream",
          "text": [
            "============================\n",
            " Embeddings only:\n",
            " ============================\n",
            "I loved this movie\n",
            "[0.44860104]\n",
            "\n",
            "\n",
            "that was the worst movie I've ever seen\n",
            "[0.10198039]\n",
            "\n",
            "\n",
            "too much violence even for a Bond film\n",
            "[0.01316333]\n",
            "\n",
            "\n",
            "a captivating recounting of a cherished myth\n",
            "[0.70612293]\n",
            "\n",
            "\n",
            "I saw this movie yesterday and I was feeling low to start with,\n",
            " but it was such a wonderful movie that it lifted my spirits and brightened \n",
            " my day, you can't go wrong with a movie with Whoopi Goldberg in it.\n",
            "[0.33704603]\n",
            "\n",
            "\n",
            "I don't understand why it received an oscar recommendation\n",
            " for best movie, it was long and boring\n",
            "[0.6171988]\n",
            "\n",
            "\n",
            "the scenery was magnificent, the CGI of the dogs was so realistic I\n",
            " thought they were played by real dogs even though they talked!\n",
            "[0.39073133]\n",
            "\n",
            "\n",
            "The ending was so sad and yet so uplifting at the same time. \n",
            " I'm looking for an excuse to see it again\n",
            "[0.5548585]\n",
            "\n",
            "\n",
            "I had expected so much more from a movie made by the director \n",
            " who made my most favorite movie ever, I was very disappointed in the tedious \n",
            " story\n",
            "[0.0044741]\n",
            "\n",
            "\n",
            "I wish I could watch this movie every day for the rest of my life\n",
            "[0.31721535]\n",
            "\n",
            "\n"
          ],
          "name": "stdout"
        }
      ]
    },
    {
      "cell_type": "code",
      "metadata": {
        "id": "I2dxmD3QiHPP",
        "colab_type": "code",
        "colab": {
          "base_uri": "https://localhost:8080/",
          "height": 905
        },
        "outputId": "fd9020ea-9ed0-41a7-9e1c-9ff1969f2089"
      },
      "source": [
        "print(\"============================\\n\",\"With CNN\\n\", \"============================\")\n",
        "predict_review(cnn_model, more_reviews)"
      ],
      "execution_count": 34,
      "outputs": [
        {
          "output_type": "stream",
          "text": [
            "============================\n",
            " With CNN\n",
            " ============================\n",
            "I loved this movie\n",
            "[0.98099923]\n",
            "\n",
            "\n",
            "that was the worst movie I've ever seen\n",
            "[0.04908293]\n",
            "\n",
            "\n",
            "too much violence even for a Bond film\n",
            "[0.00031668]\n",
            "\n",
            "\n",
            "a captivating recounting of a cherished myth\n",
            "[0.9013741]\n",
            "\n",
            "\n",
            "I saw this movie yesterday and I was feeling low to start with,\n",
            " but it was such a wonderful movie that it lifted my spirits and brightened \n",
            " my day, you can't go wrong with a movie with Whoopi Goldberg in it.\n",
            "[0.26549745]\n",
            "\n",
            "\n",
            "I don't understand why it received an oscar recommendation\n",
            " for best movie, it was long and boring\n",
            "[0.8204419]\n",
            "\n",
            "\n",
            "the scenery was magnificent, the CGI of the dogs was so realistic I\n",
            " thought they were played by real dogs even though they talked!\n",
            "[0.7800367]\n",
            "\n",
            "\n",
            "The ending was so sad and yet so uplifting at the same time. \n",
            " I'm looking for an excuse to see it again\n",
            "[0.86276746]\n",
            "\n",
            "\n",
            "I had expected so much more from a movie made by the director \n",
            " who made my most favorite movie ever, I was very disappointed in the tedious \n",
            " story\n",
            "[0.02641179]\n",
            "\n",
            "\n",
            "I wish I could watch this movie every day for the rest of my life\n",
            "[0.10128204]\n",
            "\n",
            "\n"
          ],
          "name": "stdout"
        }
      ]
    },
    {
      "cell_type": "code",
      "metadata": {
        "id": "BakEo6GaiIcG",
        "colab_type": "code",
        "colab": {
          "base_uri": "https://localhost:8080/",
          "height": 905
        },
        "outputId": "dc842703-4dfc-4a41-9b0b-9bd19c22debf"
      },
      "source": [
        "print(\"===========================\\n\",\"With bidirectional GRU\\n\", \"============================\")\n",
        "predict_review(gru_model, more_reviews)"
      ],
      "execution_count": 35,
      "outputs": [
        {
          "output_type": "stream",
          "text": [
            "===========================\n",
            " With bidirectional GRU\n",
            " ============================\n",
            "I loved this movie\n",
            "[0.52437425]\n",
            "\n",
            "\n",
            "that was the worst movie I've ever seen\n",
            "[0.01355332]\n",
            "\n",
            "\n",
            "too much violence even for a Bond film\n",
            "[0.00027353]\n",
            "\n",
            "\n",
            "a captivating recounting of a cherished myth\n",
            "[0.99053955]\n",
            "\n",
            "\n",
            "I saw this movie yesterday and I was feeling low to start with,\n",
            " but it was such a wonderful movie that it lifted my spirits and brightened \n",
            " my day, you can't go wrong with a movie with Whoopi Goldberg in it.\n",
            "[0.9985281]\n",
            "\n",
            "\n",
            "I don't understand why it received an oscar recommendation\n",
            " for best movie, it was long and boring\n",
            "[0.9998988]\n",
            "\n",
            "\n",
            "the scenery was magnificent, the CGI of the dogs was so realistic I\n",
            " thought they were played by real dogs even though they talked!\n",
            "[0.001717]\n",
            "\n",
            "\n",
            "The ending was so sad and yet so uplifting at the same time. \n",
            " I'm looking for an excuse to see it again\n",
            "[0.18279701]\n",
            "\n",
            "\n",
            "I had expected so much more from a movie made by the director \n",
            " who made my most favorite movie ever, I was very disappointed in the tedious \n",
            " story\n",
            "[0.00257766]\n",
            "\n",
            "\n",
            "I wish I could watch this movie every day for the rest of my life\n",
            "[0.01135663]\n",
            "\n",
            "\n"
          ],
          "name": "stdout"
        }
      ]
    },
    {
      "cell_type": "code",
      "metadata": {
        "id": "ggIBEIISiJio",
        "colab_type": "code",
        "colab": {
          "base_uri": "https://localhost:8080/",
          "height": 905
        },
        "outputId": "72278cc8-ea33-4cd9-e839-9935e4ab6a67"
      },
      "source": [
        "print(\"===========================\\n\", \"With a single bidirectional LSTM:\\n\", \"===========================\")\n",
        "predict_review(bidi_lstm_model, more_reviews)"
      ],
      "execution_count": 36,
      "outputs": [
        {
          "output_type": "stream",
          "text": [
            "===========================\n",
            " With a single bidirectional LSTM:\n",
            " ===========================\n",
            "I loved this movie\n",
            "[0.3699953]\n",
            "\n",
            "\n",
            "that was the worst movie I've ever seen\n",
            "[0.01186371]\n",
            "\n",
            "\n",
            "too much violence even for a Bond film\n",
            "[0.00432774]\n",
            "\n",
            "\n",
            "a captivating recounting of a cherished myth\n",
            "[0.43578386]\n",
            "\n",
            "\n",
            "I saw this movie yesterday and I was feeling low to start with,\n",
            " but it was such a wonderful movie that it lifted my spirits and brightened \n",
            " my day, you can't go wrong with a movie with Whoopi Goldberg in it.\n",
            "[0.00905773]\n",
            "\n",
            "\n",
            "I don't understand why it received an oscar recommendation\n",
            " for best movie, it was long and boring\n",
            "[0.9992237]\n",
            "\n",
            "\n",
            "the scenery was magnificent, the CGI of the dogs was so realistic I\n",
            " thought they were played by real dogs even though they talked!\n",
            "[0.4599346]\n",
            "\n",
            "\n",
            "The ending was so sad and yet so uplifting at the same time. \n",
            " I'm looking for an excuse to see it again\n",
            "[0.99803007]\n",
            "\n",
            "\n",
            "I had expected so much more from a movie made by the director \n",
            " who made my most favorite movie ever, I was very disappointed in the tedious \n",
            " story\n",
            "[0.03469599]\n",
            "\n",
            "\n",
            "I wish I could watch this movie every day for the rest of my life\n",
            "[0.04489968]\n",
            "\n",
            "\n"
          ],
          "name": "stdout"
        }
      ]
    },
    {
      "cell_type": "code",
      "metadata": {
        "id": "8OS2o2nCiKW8",
        "colab_type": "code",
        "colab": {
          "base_uri": "https://localhost:8080/",
          "height": 905
        },
        "outputId": "f4ed9d00-1b22-45d5-c8bd-92caeef69df2"
      },
      "source": [
        "print(\"===========================\\n\", \"With multiple bidirectional LSTM:\\n\", \"==========================\")\n",
        "predict_review(multiple_bidi_lstm_model, more_reviews)"
      ],
      "execution_count": 37,
      "outputs": [
        {
          "output_type": "stream",
          "text": [
            "===========================\n",
            " With multiple bidirectional LSTM:\n",
            " ==========================\n",
            "I loved this movie\n",
            "[0.03139326]\n",
            "\n",
            "\n",
            "that was the worst movie I've ever seen\n",
            "[0.0199827]\n",
            "\n",
            "\n",
            "too much violence even for a Bond film\n",
            "[0.01488373]\n",
            "\n",
            "\n",
            "a captivating recounting of a cherished myth\n",
            "[0.99441206]\n",
            "\n",
            "\n",
            "I saw this movie yesterday and I was feeling low to start with,\n",
            " but it was such a wonderful movie that it lifted my spirits and brightened \n",
            " my day, you can't go wrong with a movie with Whoopi Goldberg in it.\n",
            "[0.03075749]\n",
            "\n",
            "\n",
            "I don't understand why it received an oscar recommendation\n",
            " for best movie, it was long and boring\n",
            "[0.994591]\n",
            "\n",
            "\n",
            "the scenery was magnificent, the CGI of the dogs was so realistic I\n",
            " thought they were played by real dogs even though they talked!\n",
            "[0.99348736]\n",
            "\n",
            "\n",
            "The ending was so sad and yet so uplifting at the same time. \n",
            " I'm looking for an excuse to see it again\n",
            "[0.99033475]\n",
            "\n",
            "\n",
            "I had expected so much more from a movie made by the director \n",
            " who made my most favorite movie ever, I was very disappointed in the tedious \n",
            " story\n",
            "[0.02026089]\n",
            "\n",
            "\n",
            "I wish I could watch this movie every day for the rest of my life\n",
            "[0.01637944]\n",
            "\n",
            "\n"
          ],
          "name": "stdout"
        }
      ]
    }
  ]
}